{
 "cells": [
  {
   "cell_type": "markdown",
   "metadata": {},
   "source": [
    "<div style=\"background:#e5e5e5; color:#000; padding:10px\">\n",
    "\n",
    "Привет еще раз!\\\n",
    "    Все замечания устранены, проект принят, ты молодец!\n",
    "    \n",
    "   \n",
    "Желаю тебе успехов во всех будущих начинаниях! 🙂\n",
    "</div> "
   ]
  },
  {
   "cell_type": "markdown",
   "metadata": {},
   "source": [
    "<div style=\"background:#e5e5e5; color:#000; padding:10px\">\n",
    "\n",
    "Привет!\\\n",
    "Ты отлично поработал, НО осталось еще одно критическое замечание:  Пересмотреть выбросы и перцентили по количеству заказов (написал про мердж)\n",
    "\n",
    "Проведи проверку и высылай проект на ревью! 🙂\n",
    "</div> \n",
    "\n",
    "<div class=\"alert alert-block alert-info\">\n",
    "  \n",
    "  <b>Комментарий cтудента</b>\n",
    "    \n",
    "  Привет, спасибо! Провёл, теперь должно быть ок)\n",
    "</div>"
   ]
  },
  {
   "cell_type": "markdown",
   "metadata": {
    "id": "tPqFphv5VIOk"
   },
   "source": [
    "<div style=\"border:solid black 2px; padding: 20px\">\n",
    "Андрей, привет!\n",
    "\n",
    "Меня зовут Сергей Кулешин, и я буду делать ревью твоего проекта. Давай будем общаться на «ты». Но если тебе комфортнее на «вы», обязательно сообщи мне об этом. Моя основная цель - не указать тебе на совершенные тобой ошибки, а поделиться своим опытом и помочь тебе стать аналитиком данных.\n",
    "    \n",
    "Свои комментарии я буду выделять следующим образом:\n",
    "<div class=\"alert alert-danger\">\n",
    "    \n",
    "  <b>Комментарий ревьюера</b>\n",
    "    \n",
    "  ❌ Так выделено то, что необходимо исправить, прежде чем я смогу принять твой проект.\n",
    "</div>\n",
    "    \n",
    "    \n",
    "<div class=\"alert alert-warning\">\n",
    "    \n",
    "  <b>Комментарий ревьюера</b>\n",
    "    \n",
    "  ⚠️ Так отмечены не обязательные к доработке моменты. Mожешь учесть их при редактировании проекта. На твое усмотрение.\n",
    "</div>\n",
    "    \n",
    "    \n",
    "<div class=\"alert alert-success\">\n",
    "  \n",
    "  <b>Комментарий ревьюера</b>\n",
    "    \n",
    "  ✔️ А так удачные решения и подходы, на которые стоит опираться в будущих проектах.\n",
    "</div>\n",
    "    \n",
    "    \n",
    "<div style=\"border:solid black 2px; padding: 20px\">\n",
    "  \n",
    "    \n",
    "  <b>Чек-лист доработок</b>\n",
    "    \n",
    "  📃 Такой комментарий будет в конце тетрадки. В нем будут еще раз указаны нюансы, требующие обязательного исправления.\n",
    "</div>\n",
    "\n",
    "Предлагаю работать над проектом в форме диалога: если ты <b>что-то меняешь</b> в работе по моим рекомендациям — <b>напиши об этом</b> в ячейке `Markdown` и помечай комментарий каким-то заметным цветом, например так:\n",
    "    \n",
    "    \n",
    "```\n",
    "<div class=\"alert alert-block alert-info\">\n",
    "  \n",
    "  <b>Комментарий cтудента</b>\n",
    "    \n",
    "  Текст комментария.\n",
    "</div>\n",
    "```\n",
    "    \n",
    "<div class=\"alert alert-block alert-info\">\n",
    "  \n",
    "  <b>Комментарий cтудента</b>\n",
    "    \n",
    "  Текст комментария.\n",
    "</div>\n",
    "    \n",
    "Пожалуйста, <b>не перемещай, не изменяй и не удаляй мои комментарии</b>. Такой формат работы поможет выполнить повторную проверку твоего проекта оперативнее.\n",
    "\n",
    "<div style=\"background:#e5e5e5; color:#000; padding:10px\">\n",
    "    <b>Общее впечатление о проекте</b>\n",
    "    \n",
    "Ты верно провел приоритезацию гипотез и проанализировал результаты A/B-теста. Но в проекте есть моменты, которые требуют твоего внимания и доработки. \n",
    "</div>\n",
    "\n",
    "<div class=\"alert alert-block alert-info\">\n",
    "  \n",
    "  <b>Комментарий cтудента</b>\n",
    "    \n",
    "  Привет, Сергей! Я не против на \"ты\") Спасибо большое за ревью, доработал проект и оставил пару вопросов)\n",
    "</div>"
   ]
  },
  {
   "cell_type": "markdown",
   "metadata": {
    "id": "OhgxB_Pdl7tx"
   },
   "source": [
    "# Проверка маркетинговых гипотез для интернет-магазина с помощью A/B-тестирования"
   ]
  },
  {
   "cell_type": "markdown",
   "metadata": {
    "id": "yILsSAsMmblm"
   },
   "source": [
    "В рамках данного исследования будет отобрана одна наиболее приоритетная гипотеза, из ранее составленных отделами маркетинга и аналитики, для проверки с помощью A/B-теста.\n",
    "\n",
    "После приоритизации гипотез и выбора 1 наиболее приоритетной, а также спустя 1 месяц после проведения теста, необходимо проверить показатели интернет-магазина, влияющие на выручку (конверсия и средний чек).\n",
    "\n",
    "Перед этим необходимо будет проверить, что данные не содержат аномальных значений, которые искажают картину по клиентам в среднем, и если они есть, то необходимо их отфильтровать.\n",
    "\n",
    "По итогам анализа результатов A/B-теста будет дана рекомендация по дальнейшим действиям."
   ]
  },
  {
   "cell_type": "markdown",
   "metadata": {
    "id": "F3qeCYNgVIOp"
   },
   "source": [
    "<div class=\"alert alert-success\">\n",
    "  \n",
    "  <b>Комментарий ревьюера</b>\n",
    "    \n",
    "  ✔️ Хорошо, что есть описание и цели проекта.\n",
    "</div>"
   ]
  },
  {
   "cell_type": "markdown",
   "metadata": {
    "id": "E9mkdjihRWrr"
   },
   "source": [
    "## Загрузка и первичная обработка данных\n",
    "\n",
    "На начальном этапе загрузим полученные данные и проверим, что они:\n",
    "1. оптимизированы;\n",
    "2. не содержат дублей;\n",
    "3. не содержат пропусков."
   ]
  },
  {
   "cell_type": "code",
   "execution_count": 1,
   "metadata": {
    "id": "OKlLBmiVl7EJ"
   },
   "outputs": [],
   "source": [
    "import pandas as pd\n",
    "import numpy as np\n",
    "import matplotlib.pyplot as plt\n",
    "from scipy import stats as st\n",
    "import seaborn as sns "
   ]
  },
  {
   "cell_type": "code",
   "execution_count": 2,
   "metadata": {
    "id": "UFkeJNi2mg89"
   },
   "outputs": [],
   "source": [
    "#from google.colab import drive\n",
    "#drive.mount('/content/drive')"
   ]
  },
  {
   "cell_type": "code",
   "execution_count": 3,
   "metadata": {
    "id": "iaztFs4RmfAn"
   },
   "outputs": [],
   "source": [
    "try:\n",
    "  visitors = pd.read_csv('/datasets/visitors.csv')\n",
    "  orders = pd.read_csv('/datasets/orders.csv')\n",
    "  hypothesis = pd.read_csv('/datasets/hypothesis.csv')\n",
    "except:\n",
    "  visitors = pd.read_csv('/content/drive/MyDrive/DataSets/visitors.csv')\n",
    "  orders = pd.read_csv('/content/drive/MyDrive/DataSets/orders.csv')\n",
    "  hypothesis = pd.read_csv('/content/drive/MyDrive/DataSets/hypothesis.csv')"
   ]
  },
  {
   "cell_type": "code",
   "execution_count": 4,
   "metadata": {
    "colab": {
     "base_uri": "https://localhost:8080/",
     "height": 424
    },
    "id": "0Hww9V_HnEyo",
    "outputId": "8f251687-f777-461a-e65b-c9f7c690d184"
   },
   "outputs": [
    {
     "data": {
      "text/html": [
       "<div>\n",
       "<style scoped>\n",
       "    .dataframe tbody tr th:only-of-type {\n",
       "        vertical-align: middle;\n",
       "    }\n",
       "\n",
       "    .dataframe tbody tr th {\n",
       "        vertical-align: top;\n",
       "    }\n",
       "\n",
       "    .dataframe thead th {\n",
       "        text-align: right;\n",
       "    }\n",
       "</style>\n",
       "<table border=\"1\" class=\"dataframe\">\n",
       "  <thead>\n",
       "    <tr style=\"text-align: right;\">\n",
       "      <th></th>\n",
       "      <th>date</th>\n",
       "      <th>group</th>\n",
       "      <th>visitors</th>\n",
       "    </tr>\n",
       "  </thead>\n",
       "  <tbody>\n",
       "    <tr>\n",
       "      <th>0</th>\n",
       "      <td>2019-08-01</td>\n",
       "      <td>A</td>\n",
       "      <td>719</td>\n",
       "    </tr>\n",
       "    <tr>\n",
       "      <th>1</th>\n",
       "      <td>2019-08-02</td>\n",
       "      <td>A</td>\n",
       "      <td>619</td>\n",
       "    </tr>\n",
       "    <tr>\n",
       "      <th>2</th>\n",
       "      <td>2019-08-03</td>\n",
       "      <td>A</td>\n",
       "      <td>507</td>\n",
       "    </tr>\n",
       "    <tr>\n",
       "      <th>3</th>\n",
       "      <td>2019-08-04</td>\n",
       "      <td>A</td>\n",
       "      <td>717</td>\n",
       "    </tr>\n",
       "    <tr>\n",
       "      <th>4</th>\n",
       "      <td>2019-08-05</td>\n",
       "      <td>A</td>\n",
       "      <td>756</td>\n",
       "    </tr>\n",
       "    <tr>\n",
       "      <th>...</th>\n",
       "      <td>...</td>\n",
       "      <td>...</td>\n",
       "      <td>...</td>\n",
       "    </tr>\n",
       "    <tr>\n",
       "      <th>57</th>\n",
       "      <td>2019-08-27</td>\n",
       "      <td>B</td>\n",
       "      <td>720</td>\n",
       "    </tr>\n",
       "    <tr>\n",
       "      <th>58</th>\n",
       "      <td>2019-08-28</td>\n",
       "      <td>B</td>\n",
       "      <td>654</td>\n",
       "    </tr>\n",
       "    <tr>\n",
       "      <th>59</th>\n",
       "      <td>2019-08-29</td>\n",
       "      <td>B</td>\n",
       "      <td>531</td>\n",
       "    </tr>\n",
       "    <tr>\n",
       "      <th>60</th>\n",
       "      <td>2019-08-30</td>\n",
       "      <td>B</td>\n",
       "      <td>490</td>\n",
       "    </tr>\n",
       "    <tr>\n",
       "      <th>61</th>\n",
       "      <td>2019-08-31</td>\n",
       "      <td>B</td>\n",
       "      <td>718</td>\n",
       "    </tr>\n",
       "  </tbody>\n",
       "</table>\n",
       "<p>62 rows × 3 columns</p>\n",
       "</div>"
      ],
      "text/plain": [
       "          date group  visitors\n",
       "0   2019-08-01     A       719\n",
       "1   2019-08-02     A       619\n",
       "2   2019-08-03     A       507\n",
       "3   2019-08-04     A       717\n",
       "4   2019-08-05     A       756\n",
       "..         ...   ...       ...\n",
       "57  2019-08-27     B       720\n",
       "58  2019-08-28     B       654\n",
       "59  2019-08-29     B       531\n",
       "60  2019-08-30     B       490\n",
       "61  2019-08-31     B       718\n",
       "\n",
       "[62 rows x 3 columns]"
      ]
     },
     "execution_count": 4,
     "metadata": {},
     "output_type": "execute_result"
    }
   ],
   "source": [
    "visitors"
   ]
  },
  {
   "cell_type": "code",
   "execution_count": 5,
   "metadata": {
    "colab": {
     "base_uri": "https://localhost:8080/",
     "height": 424
    },
    "id": "Fru9Ov-WnHyd",
    "outputId": "bc73f8cc-c57c-477b-e2dc-f0d64ea899bb"
   },
   "outputs": [
    {
     "data": {
      "text/html": [
       "<div>\n",
       "<style scoped>\n",
       "    .dataframe tbody tr th:only-of-type {\n",
       "        vertical-align: middle;\n",
       "    }\n",
       "\n",
       "    .dataframe tbody tr th {\n",
       "        vertical-align: top;\n",
       "    }\n",
       "\n",
       "    .dataframe thead th {\n",
       "        text-align: right;\n",
       "    }\n",
       "</style>\n",
       "<table border=\"1\" class=\"dataframe\">\n",
       "  <thead>\n",
       "    <tr style=\"text-align: right;\">\n",
       "      <th></th>\n",
       "      <th>transactionId</th>\n",
       "      <th>visitorId</th>\n",
       "      <th>date</th>\n",
       "      <th>revenue</th>\n",
       "      <th>group</th>\n",
       "    </tr>\n",
       "  </thead>\n",
       "  <tbody>\n",
       "    <tr>\n",
       "      <th>0</th>\n",
       "      <td>3667963787</td>\n",
       "      <td>3312258926</td>\n",
       "      <td>2019-08-15</td>\n",
       "      <td>1650</td>\n",
       "      <td>B</td>\n",
       "    </tr>\n",
       "    <tr>\n",
       "      <th>1</th>\n",
       "      <td>2804400009</td>\n",
       "      <td>3642806036</td>\n",
       "      <td>2019-08-15</td>\n",
       "      <td>730</td>\n",
       "      <td>B</td>\n",
       "    </tr>\n",
       "    <tr>\n",
       "      <th>2</th>\n",
       "      <td>2961555356</td>\n",
       "      <td>4069496402</td>\n",
       "      <td>2019-08-15</td>\n",
       "      <td>400</td>\n",
       "      <td>A</td>\n",
       "    </tr>\n",
       "    <tr>\n",
       "      <th>3</th>\n",
       "      <td>3797467345</td>\n",
       "      <td>1196621759</td>\n",
       "      <td>2019-08-15</td>\n",
       "      <td>9759</td>\n",
       "      <td>B</td>\n",
       "    </tr>\n",
       "    <tr>\n",
       "      <th>4</th>\n",
       "      <td>2282983706</td>\n",
       "      <td>2322279887</td>\n",
       "      <td>2019-08-15</td>\n",
       "      <td>2308</td>\n",
       "      <td>B</td>\n",
       "    </tr>\n",
       "    <tr>\n",
       "      <th>...</th>\n",
       "      <td>...</td>\n",
       "      <td>...</td>\n",
       "      <td>...</td>\n",
       "      <td>...</td>\n",
       "      <td>...</td>\n",
       "    </tr>\n",
       "    <tr>\n",
       "      <th>1192</th>\n",
       "      <td>2662137336</td>\n",
       "      <td>3733762160</td>\n",
       "      <td>2019-08-14</td>\n",
       "      <td>6490</td>\n",
       "      <td>B</td>\n",
       "    </tr>\n",
       "    <tr>\n",
       "      <th>1193</th>\n",
       "      <td>2203539145</td>\n",
       "      <td>370388673</td>\n",
       "      <td>2019-08-14</td>\n",
       "      <td>3190</td>\n",
       "      <td>A</td>\n",
       "    </tr>\n",
       "    <tr>\n",
       "      <th>1194</th>\n",
       "      <td>1807773912</td>\n",
       "      <td>573423106</td>\n",
       "      <td>2019-08-14</td>\n",
       "      <td>10550</td>\n",
       "      <td>A</td>\n",
       "    </tr>\n",
       "    <tr>\n",
       "      <th>1195</th>\n",
       "      <td>1947021204</td>\n",
       "      <td>1614305549</td>\n",
       "      <td>2019-08-14</td>\n",
       "      <td>100</td>\n",
       "      <td>A</td>\n",
       "    </tr>\n",
       "    <tr>\n",
       "      <th>1196</th>\n",
       "      <td>3936777065</td>\n",
       "      <td>2108080724</td>\n",
       "      <td>2019-08-15</td>\n",
       "      <td>202740</td>\n",
       "      <td>B</td>\n",
       "    </tr>\n",
       "  </tbody>\n",
       "</table>\n",
       "<p>1197 rows × 5 columns</p>\n",
       "</div>"
      ],
      "text/plain": [
       "      transactionId   visitorId        date  revenue group\n",
       "0        3667963787  3312258926  2019-08-15     1650     B\n",
       "1        2804400009  3642806036  2019-08-15      730     B\n",
       "2        2961555356  4069496402  2019-08-15      400     A\n",
       "3        3797467345  1196621759  2019-08-15     9759     B\n",
       "4        2282983706  2322279887  2019-08-15     2308     B\n",
       "...             ...         ...         ...      ...   ...\n",
       "1192     2662137336  3733762160  2019-08-14     6490     B\n",
       "1193     2203539145   370388673  2019-08-14     3190     A\n",
       "1194     1807773912   573423106  2019-08-14    10550     A\n",
       "1195     1947021204  1614305549  2019-08-14      100     A\n",
       "1196     3936777065  2108080724  2019-08-15   202740     B\n",
       "\n",
       "[1197 rows x 5 columns]"
      ]
     },
     "execution_count": 5,
     "metadata": {},
     "output_type": "execute_result"
    }
   ],
   "source": [
    "orders"
   ]
  },
  {
   "cell_type": "code",
   "execution_count": 6,
   "metadata": {
    "colab": {
     "base_uri": "https://localhost:8080/",
     "height": 332
    },
    "id": "yWpRZMtMnJXU",
    "outputId": "6419171e-8cfd-48e8-cf47-4e32ddb663c4"
   },
   "outputs": [
    {
     "data": {
      "text/html": [
       "<div>\n",
       "<style scoped>\n",
       "    .dataframe tbody tr th:only-of-type {\n",
       "        vertical-align: middle;\n",
       "    }\n",
       "\n",
       "    .dataframe tbody tr th {\n",
       "        vertical-align: top;\n",
       "    }\n",
       "\n",
       "    .dataframe thead th {\n",
       "        text-align: right;\n",
       "    }\n",
       "</style>\n",
       "<table border=\"1\" class=\"dataframe\">\n",
       "  <thead>\n",
       "    <tr style=\"text-align: right;\">\n",
       "      <th></th>\n",
       "      <th>Hypothesis</th>\n",
       "      <th>Reach</th>\n",
       "      <th>Impact</th>\n",
       "      <th>Confidence</th>\n",
       "      <th>Efforts</th>\n",
       "    </tr>\n",
       "  </thead>\n",
       "  <tbody>\n",
       "    <tr>\n",
       "      <th>0</th>\n",
       "      <td>Добавить два новых канала привлечения трафика,...</td>\n",
       "      <td>3</td>\n",
       "      <td>10</td>\n",
       "      <td>8</td>\n",
       "      <td>6</td>\n",
       "    </tr>\n",
       "    <tr>\n",
       "      <th>1</th>\n",
       "      <td>Запустить собственную службу доставки, что сок...</td>\n",
       "      <td>2</td>\n",
       "      <td>5</td>\n",
       "      <td>4</td>\n",
       "      <td>10</td>\n",
       "    </tr>\n",
       "    <tr>\n",
       "      <th>2</th>\n",
       "      <td>Добавить блоки рекомендаций товаров на сайт ин...</td>\n",
       "      <td>8</td>\n",
       "      <td>3</td>\n",
       "      <td>7</td>\n",
       "      <td>3</td>\n",
       "    </tr>\n",
       "    <tr>\n",
       "      <th>3</th>\n",
       "      <td>Изменить структура категорий, что увеличит кон...</td>\n",
       "      <td>8</td>\n",
       "      <td>3</td>\n",
       "      <td>3</td>\n",
       "      <td>8</td>\n",
       "    </tr>\n",
       "    <tr>\n",
       "      <th>4</th>\n",
       "      <td>Изменить цвет фона главной страницы, чтобы уве...</td>\n",
       "      <td>3</td>\n",
       "      <td>1</td>\n",
       "      <td>1</td>\n",
       "      <td>1</td>\n",
       "    </tr>\n",
       "    <tr>\n",
       "      <th>5</th>\n",
       "      <td>Добавить страницу отзывов клиентов о магазине,...</td>\n",
       "      <td>3</td>\n",
       "      <td>2</td>\n",
       "      <td>2</td>\n",
       "      <td>3</td>\n",
       "    </tr>\n",
       "    <tr>\n",
       "      <th>6</th>\n",
       "      <td>Показать на главной странице баннеры с актуаль...</td>\n",
       "      <td>5</td>\n",
       "      <td>3</td>\n",
       "      <td>8</td>\n",
       "      <td>3</td>\n",
       "    </tr>\n",
       "    <tr>\n",
       "      <th>7</th>\n",
       "      <td>Добавить форму подписки на все основные страни...</td>\n",
       "      <td>10</td>\n",
       "      <td>7</td>\n",
       "      <td>8</td>\n",
       "      <td>5</td>\n",
       "    </tr>\n",
       "    <tr>\n",
       "      <th>8</th>\n",
       "      <td>Запустить акцию, дающую скидку на товар в день...</td>\n",
       "      <td>1</td>\n",
       "      <td>9</td>\n",
       "      <td>9</td>\n",
       "      <td>5</td>\n",
       "    </tr>\n",
       "  </tbody>\n",
       "</table>\n",
       "</div>"
      ],
      "text/plain": [
       "                                          Hypothesis  Reach  Impact  \\\n",
       "0  Добавить два новых канала привлечения трафика,...      3      10   \n",
       "1  Запустить собственную службу доставки, что сок...      2       5   \n",
       "2  Добавить блоки рекомендаций товаров на сайт ин...      8       3   \n",
       "3  Изменить структура категорий, что увеличит кон...      8       3   \n",
       "4  Изменить цвет фона главной страницы, чтобы уве...      3       1   \n",
       "5  Добавить страницу отзывов клиентов о магазине,...      3       2   \n",
       "6  Показать на главной странице баннеры с актуаль...      5       3   \n",
       "7  Добавить форму подписки на все основные страни...     10       7   \n",
       "8  Запустить акцию, дающую скидку на товар в день...      1       9   \n",
       "\n",
       "   Confidence  Efforts  \n",
       "0           8        6  \n",
       "1           4       10  \n",
       "2           7        3  \n",
       "3           3        8  \n",
       "4           1        1  \n",
       "5           2        3  \n",
       "6           8        3  \n",
       "7           8        5  \n",
       "8           9        5  "
      ]
     },
     "execution_count": 6,
     "metadata": {},
     "output_type": "execute_result"
    }
   ],
   "source": [
    "hypothesis"
   ]
  },
  {
   "cell_type": "code",
   "execution_count": 7,
   "metadata": {
    "colab": {
     "base_uri": "https://localhost:8080/"
    },
    "id": "wogTlyc5ouGz",
    "outputId": "0f80fdc3-d7cb-45c4-eac6-f0a31fbac885"
   },
   "outputs": [
    {
     "name": "stdout",
     "output_type": "stream",
     "text": [
      "<class 'pandas.core.frame.DataFrame'>\n",
      "RangeIndex: 62 entries, 0 to 61\n",
      "Data columns (total 3 columns):\n",
      " #   Column    Non-Null Count  Dtype \n",
      "---  ------    --------------  ----- \n",
      " 0   date      62 non-null     object\n",
      " 1   group     62 non-null     object\n",
      " 2   visitors  62 non-null     int64 \n",
      "dtypes: int64(1), object(2)\n",
      "memory usage: 1.6+ KB\n",
      "\n",
      "<class 'pandas.core.frame.DataFrame'>\n",
      "RangeIndex: 1197 entries, 0 to 1196\n",
      "Data columns (total 5 columns):\n",
      " #   Column         Non-Null Count  Dtype \n",
      "---  ------         --------------  ----- \n",
      " 0   transactionId  1197 non-null   int64 \n",
      " 1   visitorId      1197 non-null   int64 \n",
      " 2   date           1197 non-null   object\n",
      " 3   revenue        1197 non-null   int64 \n",
      " 4   group          1197 non-null   object\n",
      "dtypes: int64(3), object(2)\n",
      "memory usage: 46.9+ KB\n"
     ]
    }
   ],
   "source": [
    "visitors.info()\n",
    "print()\n",
    "orders.info()"
   ]
  },
  {
   "cell_type": "markdown",
   "metadata": {
    "id": "FHRL7G6SpAUK"
   },
   "source": [
    "Предварительно осмотрев датафреймы, замечены несколько технических моментов, исправление которых поможет оптимизировать дальнейшую работу.\n",
    "\n",
    "1. Привести столбцы к нижнему регистру и избавиться от CamelCase, добавив нижнее подчеркивание.\n",
    "2. Привести столбцы date к типу datetime.\n",
    "\n",
    "Также судя по датафрейму visitors, данные собраны за 1 месяц (31 день)."
   ]
  },
  {
   "cell_type": "code",
   "execution_count": 8,
   "metadata": {
    "id": "JeQGow__rz8-"
   },
   "outputs": [],
   "source": [
    "orders = orders.rename(columns={'transactionId': 'transaction_id', 'visitorId': 'visitor_id'})\n",
    "hypothesis.columns = hypothesis.columns.str.lower()"
   ]
  },
  {
   "cell_type": "code",
   "execution_count": 9,
   "metadata": {
    "colab": {
     "base_uri": "https://localhost:8080/"
    },
    "id": "RERPenbCsjIU",
    "outputId": "9b28dd46-4d6c-4272-c90a-8929f2998a3b"
   },
   "outputs": [
    {
     "name": "stdout",
     "output_type": "stream",
     "text": [
      "<class 'pandas.core.frame.DataFrame'>\n",
      "RangeIndex: 62 entries, 0 to 61\n",
      "Data columns (total 3 columns):\n",
      " #   Column    Non-Null Count  Dtype         \n",
      "---  ------    --------------  -----         \n",
      " 0   date      62 non-null     datetime64[ns]\n",
      " 1   group     62 non-null     object        \n",
      " 2   visitors  62 non-null     int64         \n",
      "dtypes: datetime64[ns](1), int64(1), object(1)\n",
      "memory usage: 1.6+ KB\n",
      "\n",
      "<class 'pandas.core.frame.DataFrame'>\n",
      "RangeIndex: 1197 entries, 0 to 1196\n",
      "Data columns (total 5 columns):\n",
      " #   Column          Non-Null Count  Dtype         \n",
      "---  ------          --------------  -----         \n",
      " 0   transaction_id  1197 non-null   int64         \n",
      " 1   visitor_id      1197 non-null   int64         \n",
      " 2   date            1197 non-null   datetime64[ns]\n",
      " 3   revenue         1197 non-null   int64         \n",
      " 4   group           1197 non-null   object        \n",
      "dtypes: datetime64[ns](1), int64(3), object(1)\n",
      "memory usage: 46.9+ KB\n"
     ]
    }
   ],
   "source": [
    "visitors['date'] = pd.to_datetime(visitors['date'], format='%Y-%m-%d')\n",
    "orders['date'] = pd.to_datetime(orders['date'], format='%Y-%m-%d')\n",
    "visitors.info()\n",
    "print()\n",
    "orders.info()"
   ]
  },
  {
   "cell_type": "markdown",
   "metadata": {
    "id": "-TKHtFcqtT18"
   },
   "source": [
    "Столбцы переименованы и дата имеет верный формат. Теперь можно проверить датафреймы на дубликаты и пропуски."
   ]
  },
  {
   "cell_type": "code",
   "execution_count": 10,
   "metadata": {
    "colab": {
     "base_uri": "https://localhost:8080/"
    },
    "id": "jxmuZwFpnLUh",
    "outputId": "1ca9ab9f-9b29-4254-953d-2c872af0854c"
   },
   "outputs": [
    {
     "name": "stdout",
     "output_type": "stream",
     "text": [
      "Кол-во дублей в visitors: 0\n",
      "Кол-во дублей в orders: 0\n"
     ]
    }
   ],
   "source": [
    "print('Кол-во дублей в visitors:', visitors.duplicated().sum())\n",
    "print('Кол-во дублей в orders:', orders.duplicated().sum())"
   ]
  },
  {
   "cell_type": "code",
   "execution_count": 11,
   "metadata": {
    "colab": {
     "base_uri": "https://localhost:8080/",
     "height": 225
    },
    "id": "NHEmwwbathOm",
    "outputId": "2eee3aee-12e7-4c71-f761-8690085f85ea"
   },
   "outputs": [
    {
     "name": "stdout",
     "output_type": "stream",
     "text": [
      "Кол-во пропусков в датафреймах:\n"
     ]
    },
    {
     "data": {
      "text/plain": [
       "date        0\n",
       "group       0\n",
       "visitors    0\n",
       "dtype: int64"
      ]
     },
     "metadata": {},
     "output_type": "display_data"
    },
    {
     "name": "stdout",
     "output_type": "stream",
     "text": [
      "\n"
     ]
    },
    {
     "data": {
      "text/plain": [
       "transaction_id    0\n",
       "visitor_id        0\n",
       "date              0\n",
       "revenue           0\n",
       "group             0\n",
       "dtype: int64"
      ]
     },
     "metadata": {},
     "output_type": "display_data"
    }
   ],
   "source": [
    "print('Кол-во пропусков в датафреймах:')\n",
    "display(visitors.isna().sum())\n",
    "print()\n",
    "display(orders.isna().sum())"
   ]
  },
  {
   "cell_type": "markdown",
   "metadata": {
    "id": "X_7e4x5WuXvW"
   },
   "source": [
    "Дубликаты и пропуски не были найдены. Последним пунктом проверим разбивку пользователей на группы, чтобы определить есть ли пересечения."
   ]
  },
  {
   "cell_type": "code",
   "execution_count": 12,
   "metadata": {
    "id": "bQZ5UL5Dg3VH"
   },
   "outputs": [],
   "source": [
    "mask = orders.groupby('visitor_id')['group'].nunique()"
   ]
  },
  {
   "cell_type": "code",
   "execution_count": 13,
   "metadata": {
    "id": "76qmGW6-e1Zq"
   },
   "outputs": [],
   "source": [
    "orders_clear_group = orders.merge(mask, on=['visitor_id', 'visitor_id'])"
   ]
  },
  {
   "cell_type": "code",
   "execution_count": 14,
   "metadata": {
    "colab": {
     "base_uri": "https://localhost:8080/"
    },
    "id": "6m41KyL5iY60",
    "outputId": "4980e149-db7b-4767-a59a-acb61f75af58"
   },
   "outputs": [
    {
     "name": "stdout",
     "output_type": "stream",
     "text": [
      "Количество записей, где у пользоветелей больше 1 группы: 181\n",
      "Количество пользователей, у которых больше 1 группы: 58\n"
     ]
    }
   ],
   "source": [
    "print('Количество записей, где у пользоветелей больше 1 группы:', orders_clear_group[orders_clear_group['group_y']>1]['visitor_id'].count())\n",
    "print('Количество пользователей, у которых больше 1 группы:', orders_clear_group[orders_clear_group['group_y']>1]['visitor_id'].nunique())"
   ]
  },
  {
   "cell_type": "code",
   "execution_count": 15,
   "metadata": {
    "id": "4_rG1JB9gOEf"
   },
   "outputs": [],
   "source": [
    "orders_clear_group = orders_clear_group[orders_clear_group['group_y']==1].copy()\n",
    "orders_clear_group = orders_clear_group.rename(columns=({'group_x': 'group'}))\n",
    "orders_clear_group = orders_clear_group.drop(columns='group_y')"
   ]
  },
  {
   "cell_type": "code",
   "execution_count": 16,
   "metadata": {
    "colab": {
     "base_uri": "https://localhost:8080/",
     "height": 424
    },
    "id": "30UKe0Tqk3YR",
    "outputId": "9f4585e6-f3b5-4a8d-8f73-d663a07d72e4"
   },
   "outputs": [
    {
     "data": {
      "text/html": [
       "<div>\n",
       "<style scoped>\n",
       "    .dataframe tbody tr th:only-of-type {\n",
       "        vertical-align: middle;\n",
       "    }\n",
       "\n",
       "    .dataframe tbody tr th {\n",
       "        vertical-align: top;\n",
       "    }\n",
       "\n",
       "    .dataframe thead th {\n",
       "        text-align: right;\n",
       "    }\n",
       "</style>\n",
       "<table border=\"1\" class=\"dataframe\">\n",
       "  <thead>\n",
       "    <tr style=\"text-align: right;\">\n",
       "      <th></th>\n",
       "      <th>transaction_id</th>\n",
       "      <th>visitor_id</th>\n",
       "      <th>date</th>\n",
       "      <th>revenue</th>\n",
       "      <th>group</th>\n",
       "    </tr>\n",
       "  </thead>\n",
       "  <tbody>\n",
       "    <tr>\n",
       "      <th>0</th>\n",
       "      <td>3667963787</td>\n",
       "      <td>3312258926</td>\n",
       "      <td>2019-08-15</td>\n",
       "      <td>1650</td>\n",
       "      <td>B</td>\n",
       "    </tr>\n",
       "    <tr>\n",
       "      <th>1</th>\n",
       "      <td>2804400009</td>\n",
       "      <td>3642806036</td>\n",
       "      <td>2019-08-15</td>\n",
       "      <td>730</td>\n",
       "      <td>B</td>\n",
       "    </tr>\n",
       "    <tr>\n",
       "      <th>4</th>\n",
       "      <td>3797467345</td>\n",
       "      <td>1196621759</td>\n",
       "      <td>2019-08-15</td>\n",
       "      <td>9759</td>\n",
       "      <td>B</td>\n",
       "    </tr>\n",
       "    <tr>\n",
       "      <th>5</th>\n",
       "      <td>2282983706</td>\n",
       "      <td>2322279887</td>\n",
       "      <td>2019-08-15</td>\n",
       "      <td>2308</td>\n",
       "      <td>B</td>\n",
       "    </tr>\n",
       "    <tr>\n",
       "      <th>6</th>\n",
       "      <td>182168103</td>\n",
       "      <td>935554773</td>\n",
       "      <td>2019-08-15</td>\n",
       "      <td>2210</td>\n",
       "      <td>B</td>\n",
       "    </tr>\n",
       "    <tr>\n",
       "      <th>...</th>\n",
       "      <td>...</td>\n",
       "      <td>...</td>\n",
       "      <td>...</td>\n",
       "      <td>...</td>\n",
       "      <td>...</td>\n",
       "    </tr>\n",
       "    <tr>\n",
       "      <th>1192</th>\n",
       "      <td>3592955527</td>\n",
       "      <td>608641596</td>\n",
       "      <td>2019-08-14</td>\n",
       "      <td>16490</td>\n",
       "      <td>B</td>\n",
       "    </tr>\n",
       "    <tr>\n",
       "      <th>1193</th>\n",
       "      <td>2662137336</td>\n",
       "      <td>3733762160</td>\n",
       "      <td>2019-08-14</td>\n",
       "      <td>6490</td>\n",
       "      <td>B</td>\n",
       "    </tr>\n",
       "    <tr>\n",
       "      <th>1194</th>\n",
       "      <td>2203539145</td>\n",
       "      <td>370388673</td>\n",
       "      <td>2019-08-14</td>\n",
       "      <td>3190</td>\n",
       "      <td>A</td>\n",
       "    </tr>\n",
       "    <tr>\n",
       "      <th>1195</th>\n",
       "      <td>1807773912</td>\n",
       "      <td>573423106</td>\n",
       "      <td>2019-08-14</td>\n",
       "      <td>10550</td>\n",
       "      <td>A</td>\n",
       "    </tr>\n",
       "    <tr>\n",
       "      <th>1196</th>\n",
       "      <td>3936777065</td>\n",
       "      <td>2108080724</td>\n",
       "      <td>2019-08-15</td>\n",
       "      <td>202740</td>\n",
       "      <td>B</td>\n",
       "    </tr>\n",
       "  </tbody>\n",
       "</table>\n",
       "<p>1016 rows × 5 columns</p>\n",
       "</div>"
      ],
      "text/plain": [
       "      transaction_id  visitor_id       date  revenue group\n",
       "0         3667963787  3312258926 2019-08-15     1650     B\n",
       "1         2804400009  3642806036 2019-08-15      730     B\n",
       "4         3797467345  1196621759 2019-08-15     9759     B\n",
       "5         2282983706  2322279887 2019-08-15     2308     B\n",
       "6          182168103   935554773 2019-08-15     2210     B\n",
       "...              ...         ...        ...      ...   ...\n",
       "1192      3592955527   608641596 2019-08-14    16490     B\n",
       "1193      2662137336  3733762160 2019-08-14     6490     B\n",
       "1194      2203539145   370388673 2019-08-14     3190     A\n",
       "1195      1807773912   573423106 2019-08-14    10550     A\n",
       "1196      3936777065  2108080724 2019-08-15   202740     B\n",
       "\n",
       "[1016 rows x 5 columns]"
      ]
     },
     "execution_count": 16,
     "metadata": {},
     "output_type": "execute_result"
    }
   ],
   "source": [
    "orders_clear_group"
   ]
  },
  {
   "cell_type": "markdown",
   "metadata": {
    "id": "nMewg0wvVIOu"
   },
   "source": [
    "<div class=\"alert alert-success\">\n",
    "  \n",
    "  <b>Комментарий ревьюера</b>\n",
    "    \n",
    "  ✔️ Данные получены и подготовлены к анализу!\n",
    "</div>"
   ]
  },
  {
   "cell_type": "markdown",
   "metadata": {
    "id": "UBw2YofyuwjM"
   },
   "source": [
    "## Приоритизация гипотез\n",
    "\n",
    "На данном этапе проверим имеющиеся гипотезы с помощью нескольких фреймворков (ICE и RICE), после чего выберем наиболее приоритетную гипотезу для проверки.\n",
    "\n",
    "ICE рассчитывается исходя из степени влияния, уверенности в результате и издержек на реализацию. RICE же помимо вышеперечисленного учитывает охват изменений."
   ]
  },
  {
   "cell_type": "markdown",
   "metadata": {
    "id": "WOD6tvsDvCac"
   },
   "source": [
    "### Приоритизация по фреймворку ICE\n",
    "\n",
    "Расчитаем по формуле приоритетность гипотезы и занесем их в датафрейм в столбец \"ice\"."
   ]
  },
  {
   "cell_type": "code",
   "execution_count": 17,
   "metadata": {
    "id": "-ZgKp6IsW67Y"
   },
   "outputs": [],
   "source": [
    "pd.options.display.max_colwidth = 400"
   ]
  },
  {
   "cell_type": "code",
   "execution_count": 18,
   "metadata": {
    "colab": {
     "base_uri": "https://localhost:8080/",
     "height": 332
    },
    "id": "oa-Lf3rXt9g6",
    "outputId": "92636482-77ee-4def-c728-4bd7b0159ad7"
   },
   "outputs": [
    {
     "data": {
      "text/html": [
       "<div>\n",
       "<style scoped>\n",
       "    .dataframe tbody tr th:only-of-type {\n",
       "        vertical-align: middle;\n",
       "    }\n",
       "\n",
       "    .dataframe tbody tr th {\n",
       "        vertical-align: top;\n",
       "    }\n",
       "\n",
       "    .dataframe thead th {\n",
       "        text-align: right;\n",
       "    }\n",
       "</style>\n",
       "<table border=\"1\" class=\"dataframe\">\n",
       "  <thead>\n",
       "    <tr style=\"text-align: right;\">\n",
       "      <th></th>\n",
       "      <th>hypothesis</th>\n",
       "      <th>reach</th>\n",
       "      <th>impact</th>\n",
       "      <th>confidence</th>\n",
       "      <th>efforts</th>\n",
       "      <th>ice</th>\n",
       "    </tr>\n",
       "  </thead>\n",
       "  <tbody>\n",
       "    <tr>\n",
       "      <th>8</th>\n",
       "      <td>Запустить акцию, дающую скидку на товар в день рождения</td>\n",
       "      <td>1</td>\n",
       "      <td>9</td>\n",
       "      <td>9</td>\n",
       "      <td>5</td>\n",
       "      <td>16.20</td>\n",
       "    </tr>\n",
       "    <tr>\n",
       "      <th>0</th>\n",
       "      <td>Добавить два новых канала привлечения трафика, что позволит привлекать на 30% больше пользователей</td>\n",
       "      <td>3</td>\n",
       "      <td>10</td>\n",
       "      <td>8</td>\n",
       "      <td>6</td>\n",
       "      <td>13.33</td>\n",
       "    </tr>\n",
       "    <tr>\n",
       "      <th>7</th>\n",
       "      <td>Добавить форму подписки на все основные страницы, чтобы собрать базу клиентов для email-рассылок</td>\n",
       "      <td>10</td>\n",
       "      <td>7</td>\n",
       "      <td>8</td>\n",
       "      <td>5</td>\n",
       "      <td>11.20</td>\n",
       "    </tr>\n",
       "    <tr>\n",
       "      <th>6</th>\n",
       "      <td>Показать на главной странице баннеры с актуальными акциями и распродажами, чтобы увеличить конверсию</td>\n",
       "      <td>5</td>\n",
       "      <td>3</td>\n",
       "      <td>8</td>\n",
       "      <td>3</td>\n",
       "      <td>8.00</td>\n",
       "    </tr>\n",
       "    <tr>\n",
       "      <th>2</th>\n",
       "      <td>Добавить блоки рекомендаций товаров на сайт интернет магазина, чтобы повысить конверсию и средний чек заказа</td>\n",
       "      <td>8</td>\n",
       "      <td>3</td>\n",
       "      <td>7</td>\n",
       "      <td>3</td>\n",
       "      <td>7.00</td>\n",
       "    </tr>\n",
       "    <tr>\n",
       "      <th>1</th>\n",
       "      <td>Запустить собственную службу доставки, что сократит срок доставки заказов</td>\n",
       "      <td>2</td>\n",
       "      <td>5</td>\n",
       "      <td>4</td>\n",
       "      <td>10</td>\n",
       "      <td>2.00</td>\n",
       "    </tr>\n",
       "    <tr>\n",
       "      <th>5</th>\n",
       "      <td>Добавить страницу отзывов клиентов о магазине, что позволит увеличить количество заказов</td>\n",
       "      <td>3</td>\n",
       "      <td>2</td>\n",
       "      <td>2</td>\n",
       "      <td>3</td>\n",
       "      <td>1.33</td>\n",
       "    </tr>\n",
       "    <tr>\n",
       "      <th>3</th>\n",
       "      <td>Изменить структура категорий, что увеличит конверсию, т.к. пользователи быстрее найдут нужный товар</td>\n",
       "      <td>8</td>\n",
       "      <td>3</td>\n",
       "      <td>3</td>\n",
       "      <td>8</td>\n",
       "      <td>1.12</td>\n",
       "    </tr>\n",
       "    <tr>\n",
       "      <th>4</th>\n",
       "      <td>Изменить цвет фона главной страницы, чтобы увеличить вовлеченность пользователей</td>\n",
       "      <td>3</td>\n",
       "      <td>1</td>\n",
       "      <td>1</td>\n",
       "      <td>1</td>\n",
       "      <td>1.00</td>\n",
       "    </tr>\n",
       "  </tbody>\n",
       "</table>\n",
       "</div>"
      ],
      "text/plain": [
       "                                                                                                     hypothesis  \\\n",
       "8                                                       Запустить акцию, дающую скидку на товар в день рождения   \n",
       "0            Добавить два новых канала привлечения трафика, что позволит привлекать на 30% больше пользователей   \n",
       "7              Добавить форму подписки на все основные страницы, чтобы собрать базу клиентов для email-рассылок   \n",
       "6          Показать на главной странице баннеры с актуальными акциями и распродажами, чтобы увеличить конверсию   \n",
       "2  Добавить блоки рекомендаций товаров на сайт интернет магазина, чтобы повысить конверсию и средний чек заказа   \n",
       "1                                     Запустить собственную службу доставки, что сократит срок доставки заказов   \n",
       "5                      Добавить страницу отзывов клиентов о магазине, что позволит увеличить количество заказов   \n",
       "3           Изменить структура категорий, что увеличит конверсию, т.к. пользователи быстрее найдут нужный товар   \n",
       "4                              Изменить цвет фона главной страницы, чтобы увеличить вовлеченность пользователей   \n",
       "\n",
       "   reach  impact  confidence  efforts    ice  \n",
       "8      1       9           9        5  16.20  \n",
       "0      3      10           8        6  13.33  \n",
       "7     10       7           8        5  11.20  \n",
       "6      5       3           8        3   8.00  \n",
       "2      8       3           7        3   7.00  \n",
       "1      2       5           4       10   2.00  \n",
       "5      3       2           2        3   1.33  \n",
       "3      8       3           3        8   1.12  \n",
       "4      3       1           1        1   1.00  "
      ]
     },
     "execution_count": 18,
     "metadata": {},
     "output_type": "execute_result"
    }
   ],
   "source": [
    "hypothesis['ice'] = round(hypothesis['impact'] * hypothesis['confidence'] / hypothesis['efforts'],2)\n",
    "hypothesis = hypothesis.sort_values(by='ice', ascending=False)\n",
    "hypothesis"
   ]
  },
  {
   "cell_type": "markdown",
   "metadata": {
    "id": "Y06RPfONwxDU"
   },
   "source": [
    "По фреймворку ICE видны 3 наиболее приоритетные гипотезы:\n",
    "1. запуск акции на день рождения (8);\n",
    "2. добавление 2-х новых каналов привлечения трафика (0);\n",
    "3. добавление формы подписки на email-рассылки (7).\n",
    "\n",
    "Теперь проверим приоритеты по фреймворку RICE и проверим будут ли изменения."
   ]
  },
  {
   "cell_type": "markdown",
   "metadata": {
    "id": "GxQXjFDkVIOw"
   },
   "source": [
    "    \n",
    "<div class=\"alert alert-warning\">\n",
    "    \n",
    "  <b>Комментарий ревьюера</b>\n",
    "    \n",
    "  ⚠️ Гипотезы имеют длинные названия, чтобы они полностью отображались  можно установить параметр функции display(): pd.options.display.max_colwidth = число_символов (например, 400).\n",
    "    \n",
    "Или использовать <a href=\"https://pandas.pydata.org/pandas-docs/stable/user_guide/options.html\">опции pandas</a>\n",
    "    \n",
    "  ⚠️ В начале лучше написать небольшой комментарий о том, как рассчитываются гипотезы.\n",
    "\n",
    "</div>\n",
    "\n",
    "<div class=\"alert alert-block alert-info\">\n",
    "  \n",
    "  <b>Комментарий cтудента</b>\n",
    "    \n",
    "  Добавил описание, настроил кол-во отображаемых символов)\n",
    "</div>\n",
    "<div class=\"alert alert-success\">\n",
    "  \n",
    "  <b>Комментарий ревьюера v.2</b>\n",
    "    \n",
    "  ✔️ Теперь названия гипотез полностью видны! 👍\n",
    "</div>"
   ]
  },
  {
   "cell_type": "markdown",
   "metadata": {
    "id": "vZK3LWyqxV2f"
   },
   "source": [
    "### Приоритизация по фреймворку RICE"
   ]
  },
  {
   "cell_type": "markdown",
   "metadata": {
    "id": "PZpB8vGL1lb7"
   },
   "source": [
    "Так как мы ищем гипотезы, способные увеличить выручку магазина, то помимо показателей влияния, уверенности в действенности и затрат, следует учесть охват аудитории, на которую распространяются данные гипотезы.\n",
    "\n",
    "Для этого расчитаем приоритет гипотез по фреймворку RICE."
   ]
  },
  {
   "cell_type": "code",
   "execution_count": 19,
   "metadata": {
    "colab": {
     "base_uri": "https://localhost:8080/",
     "height": 332
    },
    "id": "BlB-NdSNwKfy",
    "outputId": "7a1e89b0-8b4a-42b6-e2d2-9dc105b0f2b2"
   },
   "outputs": [
    {
     "data": {
      "text/html": [
       "<style  type=\"text/css\" >\n",
       "#T_7b1c6_row0_col1,#T_7b1c6_row0_col6,#T_7b1c6_row2_col2,#T_7b1c6_row4_col3,#T_7b1c6_row4_col5,#T_7b1c6_row6_col4{\n",
       "            background-color:  #008000;\n",
       "            color:  #f1f1f1;\n",
       "        }#T_7b1c6_row0_col2{\n",
       "            background-color:  #4ea64e;\n",
       "            color:  #000000;\n",
       "        }#T_7b1c6_row0_col3,#T_7b1c6_row2_col3,#T_7b1c6_row3_col3{\n",
       "            background-color:  #1d8e1d;\n",
       "            color:  #000000;\n",
       "        }#T_7b1c6_row0_col4,#T_7b1c6_row3_col1,#T_7b1c6_row4_col4,#T_7b1c6_row6_col2{\n",
       "            background-color:  #83c083;\n",
       "            color:  #000000;\n",
       "        }#T_7b1c6_row0_col5{\n",
       "            background-color:  #4da64d;\n",
       "            color:  #000000;\n",
       "        }#T_7b1c6_row1_col1,#T_7b1c6_row5_col1,#T_7b1c6_row5_col4{\n",
       "            background-color:  #349934;\n",
       "            color:  #000000;\n",
       "        }#T_7b1c6_row1_col2,#T_7b1c6_row1_col4,#T_7b1c6_row2_col1,#T_7b1c6_row3_col2,#T_7b1c6_row3_col4,#T_7b1c6_row5_col2,#T_7b1c6_row7_col1,#T_7b1c6_row7_col4,#T_7b1c6_row8_col1{\n",
       "            background-color:  #b7dab7;\n",
       "            color:  #000000;\n",
       "        }#T_7b1c6_row1_col3{\n",
       "            background-color:  #3a9c3a;\n",
       "            color:  #000000;\n",
       "        }#T_7b1c6_row1_col5{\n",
       "            background-color:  #8ec58e;\n",
       "            color:  #000000;\n",
       "        }#T_7b1c6_row1_col6{\n",
       "            background-color:  #78bb78;\n",
       "            color:  #000000;\n",
       "        }#T_7b1c6_row2_col4{\n",
       "            background-color:  #68b368;\n",
       "            color:  #000000;\n",
       "        }#T_7b1c6_row2_col5{\n",
       "            background-color:  #2c962c;\n",
       "            color:  #000000;\n",
       "        }#T_7b1c6_row2_col6,#T_7b1c6_row3_col6{\n",
       "            background-color:  #9bcc9b;\n",
       "            color:  #000000;\n",
       "        }#T_7b1c6_row3_col5{\n",
       "            background-color:  #7fbe7f;\n",
       "            color:  #000000;\n",
       "        }#T_7b1c6_row4_col1,#T_7b1c6_row8_col2,#T_7b1c6_row8_col3,#T_7b1c6_row8_col4,#T_7b1c6_row8_col5,#T_7b1c6_row8_col6{\n",
       "            background-color:  #ebf3eb;\n",
       "            color:  #000000;\n",
       "        }#T_7b1c6_row4_col2{\n",
       "            background-color:  #1a8d1a;\n",
       "            color:  #000000;\n",
       "        }#T_7b1c6_row4_col6{\n",
       "            background-color:  #cee5ce;\n",
       "            color:  #000000;\n",
       "        }#T_7b1c6_row5_col3{\n",
       "            background-color:  #b0d6b0;\n",
       "            color:  #000000;\n",
       "        }#T_7b1c6_row5_col5,#T_7b1c6_row6_col6,#T_7b1c6_row7_col6{\n",
       "            background-color:  #e9f2e9;\n",
       "            color:  #000000;\n",
       "        }#T_7b1c6_row5_col6{\n",
       "            background-color:  #deedde;\n",
       "            color:  #000000;\n",
       "        }#T_7b1c6_row6_col1,#T_7b1c6_row7_col2{\n",
       "            background-color:  #d1e6d1;\n",
       "            color:  #000000;\n",
       "        }#T_7b1c6_row6_col3{\n",
       "            background-color:  #92c892;\n",
       "            color:  #000000;\n",
       "        }#T_7b1c6_row6_col5{\n",
       "            background-color:  #dcecdc;\n",
       "            color:  #000000;\n",
       "        }#T_7b1c6_row7_col3{\n",
       "            background-color:  #cde5cd;\n",
       "            color:  #000000;\n",
       "        }#T_7b1c6_row7_col5{\n",
       "            background-color:  #e6f1e6;\n",
       "            color:  #000000;\n",
       "        }</style><table id=\"T_7b1c6_\" ><thead>    <tr>        <th class=\"blank level0\" ></th>        <th class=\"col_heading level0 col0\" >hypothesis</th>        <th class=\"col_heading level0 col1\" >reach</th>        <th class=\"col_heading level0 col2\" >impact</th>        <th class=\"col_heading level0 col3\" >confidence</th>        <th class=\"col_heading level0 col4\" >efforts</th>        <th class=\"col_heading level0 col5\" >ice</th>        <th class=\"col_heading level0 col6\" >rice</th>    </tr></thead><tbody>\n",
       "                <tr>\n",
       "                        <th id=\"T_7b1c6_level0_row0\" class=\"row_heading level0 row0\" >7</th>\n",
       "                        <td id=\"T_7b1c6_row0_col0\" class=\"data row0 col0\" >Добавить форму подписки на все основные страницы, чтобы собрать базу клиентов для email-рассылок</td>\n",
       "                        <td id=\"T_7b1c6_row0_col1\" class=\"data row0 col1\" >10</td>\n",
       "                        <td id=\"T_7b1c6_row0_col2\" class=\"data row0 col2\" >7</td>\n",
       "                        <td id=\"T_7b1c6_row0_col3\" class=\"data row0 col3\" >8</td>\n",
       "                        <td id=\"T_7b1c6_row0_col4\" class=\"data row0 col4\" >5</td>\n",
       "                        <td id=\"T_7b1c6_row0_col5\" class=\"data row0 col5\" >11.200000</td>\n",
       "                        <td id=\"T_7b1c6_row0_col6\" class=\"data row0 col6\" >112.000000</td>\n",
       "            </tr>\n",
       "            <tr>\n",
       "                        <th id=\"T_7b1c6_level0_row1\" class=\"row_heading level0 row1\" >2</th>\n",
       "                        <td id=\"T_7b1c6_row1_col0\" class=\"data row1 col0\" >Добавить блоки рекомендаций товаров на сайт интернет магазина, чтобы повысить конверсию и средний чек заказа</td>\n",
       "                        <td id=\"T_7b1c6_row1_col1\" class=\"data row1 col1\" >8</td>\n",
       "                        <td id=\"T_7b1c6_row1_col2\" class=\"data row1 col2\" >3</td>\n",
       "                        <td id=\"T_7b1c6_row1_col3\" class=\"data row1 col3\" >7</td>\n",
       "                        <td id=\"T_7b1c6_row1_col4\" class=\"data row1 col4\" >3</td>\n",
       "                        <td id=\"T_7b1c6_row1_col5\" class=\"data row1 col5\" >7.000000</td>\n",
       "                        <td id=\"T_7b1c6_row1_col6\" class=\"data row1 col6\" >56.000000</td>\n",
       "            </tr>\n",
       "            <tr>\n",
       "                        <th id=\"T_7b1c6_level0_row2\" class=\"row_heading level0 row2\" >0</th>\n",
       "                        <td id=\"T_7b1c6_row2_col0\" class=\"data row2 col0\" >Добавить два новых канала привлечения трафика, что позволит привлекать на 30% больше пользователей</td>\n",
       "                        <td id=\"T_7b1c6_row2_col1\" class=\"data row2 col1\" >3</td>\n",
       "                        <td id=\"T_7b1c6_row2_col2\" class=\"data row2 col2\" >10</td>\n",
       "                        <td id=\"T_7b1c6_row2_col3\" class=\"data row2 col3\" >8</td>\n",
       "                        <td id=\"T_7b1c6_row2_col4\" class=\"data row2 col4\" >6</td>\n",
       "                        <td id=\"T_7b1c6_row2_col5\" class=\"data row2 col5\" >13.330000</td>\n",
       "                        <td id=\"T_7b1c6_row2_col6\" class=\"data row2 col6\" >40.000000</td>\n",
       "            </tr>\n",
       "            <tr>\n",
       "                        <th id=\"T_7b1c6_level0_row3\" class=\"row_heading level0 row3\" >6</th>\n",
       "                        <td id=\"T_7b1c6_row3_col0\" class=\"data row3 col0\" >Показать на главной странице баннеры с актуальными акциями и распродажами, чтобы увеличить конверсию</td>\n",
       "                        <td id=\"T_7b1c6_row3_col1\" class=\"data row3 col1\" >5</td>\n",
       "                        <td id=\"T_7b1c6_row3_col2\" class=\"data row3 col2\" >3</td>\n",
       "                        <td id=\"T_7b1c6_row3_col3\" class=\"data row3 col3\" >8</td>\n",
       "                        <td id=\"T_7b1c6_row3_col4\" class=\"data row3 col4\" >3</td>\n",
       "                        <td id=\"T_7b1c6_row3_col5\" class=\"data row3 col5\" >8.000000</td>\n",
       "                        <td id=\"T_7b1c6_row3_col6\" class=\"data row3 col6\" >40.000000</td>\n",
       "            </tr>\n",
       "            <tr>\n",
       "                        <th id=\"T_7b1c6_level0_row4\" class=\"row_heading level0 row4\" >8</th>\n",
       "                        <td id=\"T_7b1c6_row4_col0\" class=\"data row4 col0\" >Запустить акцию, дающую скидку на товар в день рождения</td>\n",
       "                        <td id=\"T_7b1c6_row4_col1\" class=\"data row4 col1\" >1</td>\n",
       "                        <td id=\"T_7b1c6_row4_col2\" class=\"data row4 col2\" >9</td>\n",
       "                        <td id=\"T_7b1c6_row4_col3\" class=\"data row4 col3\" >9</td>\n",
       "                        <td id=\"T_7b1c6_row4_col4\" class=\"data row4 col4\" >5</td>\n",
       "                        <td id=\"T_7b1c6_row4_col5\" class=\"data row4 col5\" >16.200000</td>\n",
       "                        <td id=\"T_7b1c6_row4_col6\" class=\"data row4 col6\" >16.200000</td>\n",
       "            </tr>\n",
       "            <tr>\n",
       "                        <th id=\"T_7b1c6_level0_row5\" class=\"row_heading level0 row5\" >3</th>\n",
       "                        <td id=\"T_7b1c6_row5_col0\" class=\"data row5 col0\" >Изменить структура категорий, что увеличит конверсию, т.к. пользователи быстрее найдут нужный товар</td>\n",
       "                        <td id=\"T_7b1c6_row5_col1\" class=\"data row5 col1\" >8</td>\n",
       "                        <td id=\"T_7b1c6_row5_col2\" class=\"data row5 col2\" >3</td>\n",
       "                        <td id=\"T_7b1c6_row5_col3\" class=\"data row5 col3\" >3</td>\n",
       "                        <td id=\"T_7b1c6_row5_col4\" class=\"data row5 col4\" >8</td>\n",
       "                        <td id=\"T_7b1c6_row5_col5\" class=\"data row5 col5\" >1.120000</td>\n",
       "                        <td id=\"T_7b1c6_row5_col6\" class=\"data row5 col6\" >9.000000</td>\n",
       "            </tr>\n",
       "            <tr>\n",
       "                        <th id=\"T_7b1c6_level0_row6\" class=\"row_heading level0 row6\" >1</th>\n",
       "                        <td id=\"T_7b1c6_row6_col0\" class=\"data row6 col0\" >Запустить собственную службу доставки, что сократит срок доставки заказов</td>\n",
       "                        <td id=\"T_7b1c6_row6_col1\" class=\"data row6 col1\" >2</td>\n",
       "                        <td id=\"T_7b1c6_row6_col2\" class=\"data row6 col2\" >5</td>\n",
       "                        <td id=\"T_7b1c6_row6_col3\" class=\"data row6 col3\" >4</td>\n",
       "                        <td id=\"T_7b1c6_row6_col4\" class=\"data row6 col4\" >10</td>\n",
       "                        <td id=\"T_7b1c6_row6_col5\" class=\"data row6 col5\" >2.000000</td>\n",
       "                        <td id=\"T_7b1c6_row6_col6\" class=\"data row6 col6\" >4.000000</td>\n",
       "            </tr>\n",
       "            <tr>\n",
       "                        <th id=\"T_7b1c6_level0_row7\" class=\"row_heading level0 row7\" >5</th>\n",
       "                        <td id=\"T_7b1c6_row7_col0\" class=\"data row7 col0\" >Добавить страницу отзывов клиентов о магазине, что позволит увеличить количество заказов</td>\n",
       "                        <td id=\"T_7b1c6_row7_col1\" class=\"data row7 col1\" >3</td>\n",
       "                        <td id=\"T_7b1c6_row7_col2\" class=\"data row7 col2\" >2</td>\n",
       "                        <td id=\"T_7b1c6_row7_col3\" class=\"data row7 col3\" >2</td>\n",
       "                        <td id=\"T_7b1c6_row7_col4\" class=\"data row7 col4\" >3</td>\n",
       "                        <td id=\"T_7b1c6_row7_col5\" class=\"data row7 col5\" >1.330000</td>\n",
       "                        <td id=\"T_7b1c6_row7_col6\" class=\"data row7 col6\" >4.000000</td>\n",
       "            </tr>\n",
       "            <tr>\n",
       "                        <th id=\"T_7b1c6_level0_row8\" class=\"row_heading level0 row8\" >4</th>\n",
       "                        <td id=\"T_7b1c6_row8_col0\" class=\"data row8 col0\" >Изменить цвет фона главной страницы, чтобы увеличить вовлеченность пользователей</td>\n",
       "                        <td id=\"T_7b1c6_row8_col1\" class=\"data row8 col1\" >3</td>\n",
       "                        <td id=\"T_7b1c6_row8_col2\" class=\"data row8 col2\" >1</td>\n",
       "                        <td id=\"T_7b1c6_row8_col3\" class=\"data row8 col3\" >1</td>\n",
       "                        <td id=\"T_7b1c6_row8_col4\" class=\"data row8 col4\" >1</td>\n",
       "                        <td id=\"T_7b1c6_row8_col5\" class=\"data row8 col5\" >1.000000</td>\n",
       "                        <td id=\"T_7b1c6_row8_col6\" class=\"data row8 col6\" >3.000000</td>\n",
       "            </tr>\n",
       "    </tbody></table>"
      ],
      "text/plain": [
       "<pandas.io.formats.style.Styler at 0x7ff5ff2758b0>"
      ]
     },
     "execution_count": 19,
     "metadata": {},
     "output_type": "execute_result"
    }
   ],
   "source": [
    "hypothesis['rice'] = round(hypothesis['reach'] * hypothesis['impact'] * hypothesis['confidence'] / hypothesis['efforts'],2)\n",
    "hypothesis = hypothesis.sort_values(by='rice', ascending=False)\n",
    "\n",
    "cm = sns.light_palette(\"green\", as_cmap=True)\n",
    "hypothesis.style.background_gradient(cmap=cm)"
   ]
  },
  {
   "cell_type": "markdown",
   "metadata": {
    "id": "wCPqGOlKyAdV"
   },
   "source": [
    "**По фреймворку RICE 3 наиболее приоритетные гипотезы:**\n",
    "1. добавление формы подписки на email-рассылку (7);\n",
    "2. добавление блоков рекомендации товаров (2);\n",
    "3. добавление 2-х новых каналов трафика (0).\n",
    "\n",
    "Как видно 2 гипотезы приоритетные по фреймворку ICE остались таковыми и по RICE - это говорит о том, что данные гипотезы имеют относительно высокий показатель охвата аудитори, что потенциально может дать большее увеличение выручки.\n",
    "\n",
    "К ним присоединилась гипотеза с добавлением блоков рекомендации товаров, так как она имеет высокие показатели охвата, несмотря на относительно не высокий показатель влияния - такое сочетание так же может помочь в увеличении выручки.\n",
    "\n",
    "А гипотеза с акцией в честь дня рождения стала лишь пятой, поскольку не позволяет в короткие сроки охватить большую часть аудитории. Её стоит взять во вторую очередь для проверки вместе с гипотезой по размещению баннеров на главной странице.\n",
    "\n",
    "**Итоги приоритизации**\n",
    "\n",
    "По итогам приоритизации в первую очередь проверим основную гипотезу:\n",
    "* \"Добавить форму подписки на все основные страницы, чтобы собрать базу клиентов для email-рассылок\"\n",
    "\n",
    "Она имеет наилучшее соотношение по количеству охватов аудитории, влиянию на выручку, уверенности в действенности и издержках на реализацию."
   ]
  },
  {
   "cell_type": "markdown",
   "metadata": {
    "id": "PkdSpwPdVIO0"
   },
   "source": [
    "<div class=\"alert alert-success\">\n",
    "  \n",
    "  <b>Комментарий ревьюера</b>\n",
    "    \n",
    "  ✔️ Хорошая работа, корректно применены фреймворки и проанализированы полученные результаты. \n",
    "        \n",
    "    \n",
    "Результаты объединенной таблицы, для наглядности, можно было бы проранжировать и выделить цветом: https://pandas.pydata.org/pandas-docs/stable/user_guide/style.html\n",
    "\n",
    "   \n",
    "</div>\n",
    "\n",
    "<div class=\"alert alert-block alert-info\">\n",
    "  \n",
    "  <b>Комментарий cтудента</b>\n",
    "    \n",
    "  Установил подсветку, однако она как-то не корректно отрабатывает на RICE.\n",
    "</div>\n",
    "\n",
    "<div class=\"alert alert-success\">\n",
    "  \n",
    "  <b>Комментарий ревьюера v.2</b>\n",
    "    \n",
    "  ✔️ Тут лучше через  seaborn:\n",
    "```\n",
    "import seaborn as sns \n",
    "cm = sns.light_palette(\"green\", as_cmap=True)\n",
    "df.style.background_gradient(cmap=cm)\n",
    "```\n",
    "</div>\n",
    "\n",
    "<div class=\"alert alert-block alert-info\">\n",
    "  \n",
    "  <b>Комментарий cтудента</b>\n",
    "    \n",
    "  Спасибо! Теперь нормально работает)\n",
    "</div>\n",
    "<div class=\"alert alert-success\">\n",
    "  \n",
    "  <b>Комментарий ревьюера v.3</b>\n",
    "    \n",
    "  ✔️ Пожалуйста! 🙂\n",
    "\n",
    "</div>"
   ]
  },
  {
   "cell_type": "markdown",
   "metadata": {
    "id": "Vr0Lf-BU2R-C"
   },
   "source": [
    "## Анализ результатов A/B-теста для приоритетной гипотезы\n",
    "\n",
    "В рамках анализа проверим накопительную выручку, накопительный средний чек, накопительную конверсию, а также проверим сколько в среднем заказывает 1 пользователь и какая средняя сумма заказа."
   ]
  },
  {
   "cell_type": "markdown",
   "metadata": {
    "id": "BcIC8EKbVIO1"
   },
   "source": [
    "<div class=\"alert alert-danger\">\n",
    "    \n",
    "  <b>Комментарий ревьюера</b>\n",
    "  \n",
    "  ❌ Еще остается не выполненным на этапе предобработки, но тем не менее важным - проверить корректность разбиения пользователей на группы - может быть есть пользователи, попавшие в обе группы? Если таковые пользователи есть, нужно их выявить и выработать стратегию работы с такими данными. Пересечение групп сильно влияет на результаты теста, если процент достаточно большой. Если есть возможность их можно удалить и посмотреть, какие результаты получаются без них, в любом случае к результатам теста придется относится осторожно.\n",
    "</div>\n",
    "\n",
    "<div class=\"alert alert-block alert-info\">\n",
    "  \n",
    "  <b>Комментарий cтудента</b>\n",
    "    \n",
    "  Сделано\n",
    "</div>"
   ]
  },
  {
   "cell_type": "markdown",
   "metadata": {},
   "source": [
    "<div class=\"alert alert-success\">\n",
    "  \n",
    "  <b>Комментарий ревьюера v.2</b>\n",
    "    \n",
    "  ✔️ Хорошо, результаты теста они больше не искажают.  Только не забываем, что мы очистили датафрейм orders_clear_group и работать в дальнейшем надо с ним.\n",
    "</div>"
   ]
  },
  {
   "cell_type": "markdown",
   "metadata": {
    "id": "NCcSrSewwXwM"
   },
   "source": [
    "### Анализ куммулятивной выручки"
   ]
  },
  {
   "cell_type": "code",
   "execution_count": 20,
   "metadata": {
    "id": "b3YmPPM8kxHV"
   },
   "outputs": [],
   "source": [
    "# создаем массив уникальных пар значений дат и групп теста\n",
    "dates_groups = orders_clear_group[['date','group']].drop_duplicates()\n",
    "  \n",
    "# получаем агрегированные кумулятивные по дням данные о заказах\n",
    "orders_aggregated = (dates_groups\n",
    "                      .apply(lambda x: orders_clear_group[np.logical_and(orders_clear_group['date'] <= x['date'], orders_clear_group['group'] == x['group'])]\n",
    "                      .agg({'date' : 'max', 'group' : 'max', 'transaction_id' : 'nunique', 'visitor_id' : 'nunique', 'revenue' : 'sum'}), axis=1)\n",
    "                      .sort_values(by=['date','group'])\n",
    "                      )\n",
    "orders_aggregated = orders_aggregated.rename(columns={'transaction_id': 'orders_cnt', 'visitor_id': 'visitors_cnt'})\n",
    "\n",
    "# получаем агрегированные кумулятивные по дням данные о посетителях интернет-магазина\n",
    "visitors_aggregated = (dates_groups\n",
    "                        .apply(lambda x: visitors[np.logical_and(visitors['date'] <= x['date'], visitors['group'] == x['group'])]\n",
    "                                .agg({'date' : 'max', 'group' : 'max', 'visitors' : 'sum'}), axis=1)\n",
    "                        .sort_values(by=['date','group'])\n",
    "                        )\n",
    "\n",
    "# объединяем кумулятивные данные в одной таблице и присваиваем ее столбцам понятные названия\n",
    "cumulative_data = orders_aggregated.merge(visitors_aggregated, left_on=['date', 'group'], right_on=['date', 'group'])\n",
    "cumulative_data.columns = ['date', 'group', 'orders', 'buyers', 'revenue', 'visitors']\n",
    "\n",
    "# датафрейм с кумулятивным количеством заказов и кумулятивной выручкой по дням в группе А\n",
    "cumulative_revenue_a = cumulative_data[cumulative_data['group']=='A'][['date','revenue', 'orders']]\n",
    "\n",
    "# датафрейм с кумулятивным количеством заказов и кумулятивной выручкой по дням в группе B\n",
    "cumulative_revenue_b = cumulative_data[cumulative_data['group']=='B'][['date','revenue', 'orders']]"
   ]
  },
  {
   "cell_type": "code",
   "execution_count": 21,
   "metadata": {
    "colab": {
     "base_uri": "https://localhost:8080/",
     "height": 350
    },
    "id": "jx5xWIKX77-u",
    "outputId": "694096d0-a5e2-4182-d247-3bb2b355c6f5"
   },
   "outputs": [
    {
     "data": {
      "image/png": "[encoded data removed]",
      "text/plain": [
       "<Figure size 720x360 with 1 Axes>"
      ]
     },
     "metadata": {
      "needs_background": "light"
     },
     "output_type": "display_data"
    }
   ],
   "source": [
    "plt.figure(figsize=(10,5))\n",
    "plt.ylabel('Куммулятивная выручка')\n",
    "plt.xlabel('Даты эксперимента')\n",
    "plt.title('Динамика куммулятивной выручки за период A/B-теста')\n",
    "\n",
    "# Строим график выручки группы А\n",
    "plt.plot(cumulative_revenue_a['date'], cumulative_revenue_a['revenue'], label='A')\n",
    "\n",
    "# Строим график выручки группы B\n",
    "plt.plot(cumulative_revenue_b['date'], cumulative_revenue_b['revenue'], label='B')\n",
    "\n",
    "plt.legend()\n",
    "plt.show()"
   ]
  },
  {
   "cell_type": "markdown",
   "metadata": {
    "id": "l-TMi1g1h2UJ"
   },
   "source": [
    "Судя по данным графика, вариант B показывает наибольшую динамику роста выручки. Вариант A растёт почти линейно.\n",
    "\n",
    "Сильнее всего вариант B оторвался от A 18 августа, после чего стал стабильно обгонять на примерно равное значение. Это может сигнализировать об аномально больших заказах в выборке B. Необходимо будет проверить данное предположение.\n",
    "\n",
    "Теперь сравним средний чек по группам."
   ]
  },
  {
   "cell_type": "markdown",
   "metadata": {
    "id": "nVJigX0mVIO2"
   },
   "source": [
    "<div class=\"alert alert-success\">\n",
    "  \n",
    "  <b>Комментарий ревьюера</b>\n",
    "    \n",
    "  ✔️ График построен верно и можем зафиксировать аномалию в группе В.\n",
    "</div>"
   ]
  },
  {
   "cell_type": "markdown",
   "metadata": {
    "id": "7-W5RllewP8f"
   },
   "source": [
    "### Анализ куммулятивного среднего чека"
   ]
  },
  {
   "cell_type": "code",
   "execution_count": 22,
   "metadata": {
    "colab": {
     "base_uri": "https://localhost:8080/",
     "height": 350
    },
    "id": "r1Xlws6Wlt0v",
    "outputId": "eecbd0e0-ab7d-40d2-9a05-eb3edb491379"
   },
   "outputs": [
    {
     "data": {
      "image/png": "[encoded data removed]",
      "text/plain": [
       "<Figure size 720x360 with 1 Axes>"
      ]
     },
     "metadata": {
      "needs_background": "light"
     },
     "output_type": "display_data"
    }
   ],
   "source": [
    "plt.figure(figsize=(10,5))\n",
    "plt.ylabel('Куммулятивный средний чек')\n",
    "plt.xlabel('Даты эксперимента')\n",
    "plt.title('Динамика куммулятивного среднего чека за период A/B-теста')\n",
    "\n",
    "# Строим график выручки группы А\n",
    "plt.plot(cumulative_revenue_a['date'], (cumulative_revenue_a['revenue'] / cumulative_revenue_a['orders']), label='A')\n",
    "\n",
    "# Строим график выручки группы B\n",
    "plt.plot(cumulative_revenue_b['date'], (cumulative_revenue_b['revenue'] / cumulative_revenue_b['orders']), label='B')\n",
    "\n",
    "plt.legend()\n",
    "plt.show()"
   ]
  },
  {
   "cell_type": "markdown",
   "metadata": {
    "id": "XHGry1DvmKkY"
   },
   "source": [
    "На графике с динамикой куммулятивного среднего чека так же виден резкий рост 18 августа для группы B, после которого метрика начинает падать до конца эксперимента. Это говорит о том, что если бы эксперимент продолжался ещё какой-то период, при данной динамике, то вариант А имел бы шансы показать бОльшую эффективность.\n",
    "\n",
    "Проверим относительное изменение куммулятивного среднего чека группы B к группе A."
   ]
  },
  {
   "cell_type": "markdown",
   "metadata": {
    "id": "9WQJhEYbVIO3"
   },
   "source": [
    "<div class=\"alert alert-success\">\n",
    "  \n",
    "  <b>Комментарий ревьюера</b>\n",
    "    \n",
    "  ✔️ Да, тут так-же группа В выделяется.\n",
    "</div>"
   ]
  },
  {
   "cell_type": "code",
   "execution_count": 23,
   "metadata": {
    "id": "pDj2TTj4mD62"
   },
   "outputs": [],
   "source": [
    "merged_cumulative_revenue = cumulative_revenue_a.merge(cumulative_revenue_b, left_on='date', right_on='date', how='left', suffixes=['A', 'B'])"
   ]
  },
  {
   "cell_type": "code",
   "execution_count": 24,
   "metadata": {
    "colab": {
     "base_uri": "https://localhost:8080/",
     "height": 350
    },
    "id": "-POw77sSo70V",
    "outputId": "015b0eec-c243-40f2-8a4c-387a127f7fec"
   },
   "outputs": [
    {
     "data": {
      "image/png": "[encoded data removed]",
      "text/plain": [
       "<Figure size 720x360 with 1 Axes>"
      ]
     },
     "metadata": {
      "needs_background": "light"
     },
     "output_type": "display_data"
    }
   ],
   "source": [
    "plt.figure(figsize=(10,5))\n",
    "plt.ylabel('Куммулятивный средний чек')\n",
    "plt.xlabel('Даты эксперимента')\n",
    "plt.title('Относительная динамика куммулятивного среднего чека группы B к группе A')\n",
    "\n",
    "plt.plot(merged_cumulative_revenue['date'], (merged_cumulative_revenue['revenueB']/merged_cumulative_revenue['ordersB'])/(merged_cumulative_revenue['revenueA']/merged_cumulative_revenue['ordersA'])-1)\n",
    "plt.axhline(y=0, color='black', linestyle='--') \n",
    "\n",
    "plt.show()"
   ]
  },
  {
   "cell_type": "markdown",
   "metadata": {
    "id": "h-DFMxoipUBF"
   },
   "source": [
    "Судя по наличию резких скачков на графике в данные точно попали аномальные значения. Их нужно будет отфильтровать в дальнейшем.\n",
    "\n",
    "Теперь проанализируем куммулятивную конверсию."
   ]
  },
  {
   "cell_type": "markdown",
   "metadata": {
    "id": "R0gJ1v-GVIO4"
   },
   "source": [
    "<div class=\"alert alert-success\">\n",
    "  \n",
    "  <b>Комментарий ревьюера</b>\n",
    "    \n",
    "  ✔️ Верно, похоже на крупные заказы.\n",
    "</div>"
   ]
  },
  {
   "cell_type": "markdown",
   "metadata": {
    "id": "x2k7PYEKwISj"
   },
   "source": [
    "### Анализ куммулятивной конверсии"
   ]
  },
  {
   "cell_type": "code",
   "execution_count": 25,
   "metadata": {
    "colab": {
     "base_uri": "https://localhost:8080/",
     "height": 350
    },
    "id": "ecD-hZedpJlA",
    "outputId": "8f40af24-8d69-45c6-edeb-e5f95acae2da"
   },
   "outputs": [
    {
     "data": {
      "image/png": "[encoded data removed]",
      "text/plain": [
       "<Figure size 720x360 with 1 Axes>"
      ]
     },
     "metadata": {
      "needs_background": "light"
     },
     "output_type": "display_data"
    }
   ],
   "source": [
    "# считаем кумулятивную конверсию\n",
    "cumulative_data['conversion'] = cumulative_data['orders']/cumulative_data['visitors']\n",
    "\n",
    "# отделяем данные по группе A\n",
    "cumulative_data_a = cumulative_data[cumulative_data['group']=='A']\n",
    "\n",
    "# отделяем данные по группе B\n",
    "cumulative_data_b = cumulative_data[cumulative_data['group']=='B']\n",
    "\n",
    "plt.figure(figsize=(10,5))\n",
    "plt.ylabel('Куммулятивная конверсия')\n",
    "plt.xlabel('Даты эксперимента')\n",
    "plt.title('Динамика куммулятивной конверсии Посетитель-Заказ')\n",
    "\n",
    "# строим графики\n",
    "plt.plot(cumulative_data_a['date'], cumulative_data_a['conversion'], label='A')\n",
    "plt.plot(cumulative_data_b['date'], cumulative_data_b['conversion'], label='B')\n",
    "plt.legend()\n",
    "plt.show()"
   ]
  },
  {
   "cell_type": "markdown",
   "metadata": {
    "id": "qOhUsZ9QsdXw"
   },
   "source": [
    "Вариант B показывает лучшую конверсию. Конверсия варианта А падает начиная c 3 дня эксперимента и до конца периода."
   ]
  },
  {
   "cell_type": "markdown",
   "metadata": {
    "id": "9HweZ5kJVIO4"
   },
   "source": [
    "<div class=\"alert alert-success\">\n",
    "  \n",
    "  <b>Комментарий ревьюера</b>\n",
    "    \n",
    "  ✔️ Согласен, группа В в лидерах.\n",
    "</div>"
   ]
  },
  {
   "cell_type": "code",
   "execution_count": 26,
   "metadata": {
    "colab": {
     "base_uri": "https://localhost:8080/",
     "height": 350
    },
    "id": "aprA7p4frm3X",
    "outputId": "d52aa571-1c31-4f10-c212-b650fc44272a"
   },
   "outputs": [
    {
     "data": {
      "image/png": "[encoded data removed]",
      "text/plain": [
       "<Figure size 720x360 with 1 Axes>"
      ]
     },
     "metadata": {
      "needs_background": "light"
     },
     "output_type": "display_data"
    }
   ],
   "source": [
    "merged_cumulative_conversions = (cumulative_data_a[['date','conversion']]\n",
    "                                 .merge(cumulative_data_b[['date','conversion']],\n",
    "                                        left_on='date', \n",
    "                                        right_on='date', \n",
    "                                        how='left', \n",
    "                                        suffixes=['A', 'B']))\n",
    "\n",
    "plt.figure(figsize=(10,5))\n",
    "plt.ylabel('Куммулятивная конверсия')\n",
    "plt.xlabel('Даты эксперимента')\n",
    "plt.title('Относительная динамика куммулятивной конверсии группы B к A')\n",
    "\n",
    "plt.plot(merged_cumulative_conversions['date'], merged_cumulative_conversions['conversionB']/merged_cumulative_conversions['conversionA']-1)\n",
    "\n",
    "plt.axhline(y=0, color='black', linestyle='--')\n",
    "plt.axhline(y=-0.1, color='grey', linestyle='--')\n",
    "\n",
    "plt.show()"
   ]
  },
  {
   "cell_type": "markdown",
   "metadata": {
    "id": "OWrurZi-tDOd"
   },
   "source": [
    "На данном графике так же видим, что конверсия варианта B выше."
   ]
  },
  {
   "cell_type": "markdown",
   "metadata": {
    "id": "EyESGS2TVIO5"
   },
   "source": [
    "<div class=\"alert alert-success\">\n",
    "  \n",
    "  <b>Комментарий ревьюера</b>\n",
    "    \n",
    "  ✔️ Да, конверсия в группе В выше, а еще в последней трети эксперимента наблюдается стабилизация результатов.\n",
    "</div>\n",
    "\n",
    "<div class=\"alert alert-block alert-info\">\n",
    "  \n",
    "  <b>Комментарий cтудента</b>\n",
    "    \n",
    "  А как мы понимаем, что то, что есть на графике - это стабилизация? Просто на мой взгляд результаты ещё далеки от стабильных)\n",
    "</div>\n",
    "<div class=\"alert alert-success\">\n",
    "  \n",
    "  <b>Комментарий ревьюера v.2</b>\n",
    "    \n",
    "  ✔️ Колебания в пределах 0.1 вполне можно принимать за стабилизацию.\n",
    "</div>\n",
    "\n",
    "<div class=\"alert alert-block alert-info\">\n",
    "  \n",
    "  <b>Комментарий cтудента</b>\n",
    "    \n",
    "  Понял, спасибо)\n",
    "</div>"
   ]
  },
  {
   "cell_type": "markdown",
   "metadata": {
    "id": "QlRa_Cbhwb3W"
   },
   "source": [
    "### Анализ распределения заказов по сумме выручки и количеству на 1 пользователя"
   ]
  },
  {
   "cell_type": "code",
   "execution_count": 27,
   "metadata": {
    "colab": {
     "base_uri": "https://localhost:8080/",
     "height": 336
    },
    "id": "Bdz9Uo1BxkXo",
    "outputId": "373fe8ff-e1f4-42ba-a259-7a240a680cea"
   },
   "outputs": [
    {
     "data": {
      "image/png": "[encoded data removed]",
      "text/plain": [
       "<Figure size 720x360 with 1 Axes>"
      ]
     },
     "metadata": {
      "needs_background": "light"
     },
     "output_type": "display_data"
    }
   ],
   "source": [
    "x_values = pd.Series(range(0,len(orders_clear_group.groupby('visitor_id')['transaction_id'].nunique())))\n",
    "\n",
    "plt.figure(figsize=(10,5))\n",
    "plt.ylabel('Стоимость заказа')\n",
    "plt.title('Распределение количества заказов на пользователя')\n",
    "\n",
    "plt.scatter(x_values, orders_clear_group.groupby('visitor_id')['transaction_id'].nunique())\n",
    "plt.show()"
   ]
  },
  {
   "cell_type": "markdown",
   "metadata": {
    "id": "-gZ_K6kcy86S"
   },
   "source": [
    "Наибольшая часть пользователей совершает 1 заказ. Если смотреть в среднем, то 99% пользователей совершает до 2-х заказов включительно, остальные можно считать аномальными значениями."
   ]
  },
  {
   "cell_type": "code",
   "execution_count": 28,
   "metadata": {
    "colab": {
     "base_uri": "https://localhost:8080/"
    },
    "id": "dNz6ibqut-51",
    "outputId": "f44633af-81fd-448e-8e9c-689c39ae8364"
   },
   "outputs": [
    {
     "name": "stdout",
     "output_type": "stream",
     "text": [
      "95 и 99 перцентили: [1. 2.]\n"
     ]
    }
   ],
   "source": [
    "print('95 и 99 перцентили:', np.percentile(orders_clear_group.groupby('visitor_id')['transaction_id'].nunique(), [95, 99]))"
   ]
  },
  {
   "cell_type": "markdown",
   "metadata": {
    "id": "zi3he4OSVIO6"
   },
   "source": [
    "<div class=\"alert alert-danger\">\n",
    "    \n",
    "  <b>Комментарий ревьюера</b>\n",
    "    \n",
    "  ❌ График и перцентали по количеству заказов не верны. Не понятно, для чего мы мерждим orders.merge(orders_per_visitor..?\n",
    "\n",
    "</div>\n",
    "\n",
    "<div class=\"alert alert-block alert-info\">\n",
    "  \n",
    "  <b>Комментарий cтудента</b>\n",
    "    \n",
    "  А что именно не верно? Задача была \"Постройте точечный график количества заказов по пользователям. Сделайте выводы и предположения.\", я вычислил в сводной таблице кол-во заказов на одного пользователя, по этим же данным построил график\n",
    "  Пожалуйста, укажи более подробно, что именно не верно)\n",
    "\n",
    "  Если они были неверными только из-за того, что вначале не отфильтровал пересекающихся пользователей, то вопросов нет, сейчас наверное правильно)\n",
    "</div>\n",
    "<div class=\"alert alert-danger\">\n",
    "    \n",
    "  <b>Комментарий ревьюера v.2</b>\n",
    "    \n",
    "  ❌ Что будет, когда мы к датафрейму orders_clear_group НЕ сгруппированному по visitor_id примерджим сгруппиированный по visitor_id датафрейм orders_per_visitor указав параметр  how='left' ?\n",
    "\n",
    "</div>\n",
    "\n",
    "<div class=\"alert alert-block alert-info\">\n",
    "  \n",
    "  <b>Комментарий cтудента</b>\n",
    "    \n",
    "  Ну, как это у меня в голове закрепилось, то всем посетителям по id добавится кол-во заказов, т.е. мы получим исходный датафрейм с несколько раз повторяющимися id посетителей с одинаковым кол-вом заказов. Понимаю, почему то думал, что график это учитывает) Сейчас заменил - сделал группбаем, посчитав уникальные transaction id для каждого юзера, ничего не мерджил, результаты изменились\n",
    "</div>\n",
    "<div class=\"alert alert-success\">\n",
    "  \n",
    "  <b>Комментарий ревьюера v.3</b>\n",
    "    \n",
    "  ✔️ Верно! Количество заказов сократилось заметно.\n",
    "</div>"
   ]
  },
  {
   "cell_type": "markdown",
   "metadata": {
    "id": "QLOziNc2xCnE"
   },
   "source": [
    "В качестве значения для фильтрации аномальных значений, возьмем 95-й перцентиль - 2 заказа на пользователя.\n",
    "\n",
    "Теперь проверим распределение стоимости заказов."
   ]
  },
  {
   "cell_type": "code",
   "execution_count": 29,
   "metadata": {
    "colab": {
     "base_uri": "https://localhost:8080/",
     "height": 336
    },
    "id": "rubRmYQ0szS9",
    "outputId": "5a5e601a-f1ed-4994-bb51-fa9d89906497"
   },
   "outputs": [
    {
     "data": {
      "image/png": "[encoded data removed]",
      "text/plain": [
       "<Figure size 720x360 with 1 Axes>"
      ]
     },
     "metadata": {
      "needs_background": "light"
     },
     "output_type": "display_data"
    }
   ],
   "source": [
    "x_values = pd.Series(range(0,len(orders_clear_group['revenue'])))\n",
    "\n",
    "plt.figure(figsize=(10,5))\n",
    "plt.ylabel('Стоимость заказа')\n",
    "plt.title('Распределение стоимости заказов')\n",
    "\n",
    "plt.scatter(x_values, orders_clear_group['revenue'])\n",
    "\n",
    "plt.show()"
   ]
  },
  {
   "cell_type": "markdown",
   "metadata": {
    "id": "or2BTObtuzy2"
   },
   "source": [
    "Как видно на графике, имеется 1 заказ стоимостью 1 294 500 рублей, который совершил пользователь группы B. Данный заказ лучше отфильтровать, чтобы ориентироваться на более реальные средние значения и выбрать вариант, который будет наиболее результативным."
   ]
  },
  {
   "cell_type": "code",
   "execution_count": 30,
   "metadata": {
    "colab": {
     "base_uri": "https://localhost:8080/"
    },
    "id": "6BcyfoRUw4gR",
    "outputId": "3c32692c-da9f-4ad1-be4a-78a31dab8999"
   },
   "outputs": [
    {
     "name": "stdout",
     "output_type": "stream",
     "text": [
      "95 и 99 перцентили: [26785. 53904.]\n"
     ]
    }
   ],
   "source": [
    "print('95 и 99 перцентили:', np.percentile(orders_clear_group['revenue'], [95, 99]))"
   ]
  },
  {
   "cell_type": "markdown",
   "metadata": {
    "id": "EbT7PmUn5vJE"
   },
   "source": [
    "В качестве значения для фильтрации аномальных значений, возьмем 95-й перцентиль - с суммой заказа до 26 785 рублей.\n",
    "\n",
    "Сначала проверим статистическую значимость конверсии и среднего чека двух групп на сырых данных."
   ]
  },
  {
   "cell_type": "markdown",
   "metadata": {
    "id": "p3MadsNPVIO7"
   },
   "source": [
    "<div class=\"alert alert-warning\">\n",
    "    \n",
    "  <b>Комментарий ревьюера</b>\n",
    "    \n",
    "  ⚠️ Тут перцентали выбраны верно. Но скорее всего, после обнаружения пользователей, которые вошли в обе группы (что не совсем верно) границы выбросов изменятся. Еще раз перепроверь свое решение после дополнения части с предобработкой.\n",
    "</div>"
   ]
  },
  {
   "cell_type": "markdown",
   "metadata": {
    "id": "WSIptwlEPsxw"
   },
   "source": [
    "### Проверка конверсии и среднего чека на сырых данных"
   ]
  },
  {
   "cell_type": "markdown",
   "metadata": {
    "id": "YWPTzpxgVIO7"
   },
   "source": [
    "<div class=\"alert alert-danger\">\n",
    "    \n",
    "  <b>Комментарий ревьюера</b>\n",
    "    \n",
    "  ❌ Прежде чем проводить тесты, надо сформулировать нулевую и альтернативную гипотезы, например:\n",
    "- H0 - Нет различий между....\n",
    "- H1 - Есть различия между....\n",
    "</div>\n",
    "<div class=\"alert alert-success\">\n",
    "  \n",
    "  <b>Комментарий ревьюера v.2</b>\n",
    "    \n",
    "  ✔️ Нулевая и альтернативная гипотезы сформулированы. Можно конкретизировать: между группами A и B, т.к. иногда бывает больше 2 групп. \n",
    "\n",
    "\n",
    "</div>\n",
    "\n",
    "<div class=\"alert alert-block alert-info\">\n",
    "  \n",
    "  <b>Комментарий cтудента</b>\n",
    "    \n",
    "  Сделано)\n",
    "</div>\n",
    "<div class=\"alert alert-success\">\n",
    "  \n",
    "  <b>Комментарий ревьюера v.3</b>\n",
    "    \n",
    "  ✔️ 👍\n",
    "</div>"
   ]
  },
  {
   "cell_type": "markdown",
   "metadata": {
    "id": "d4lPcbiHqSvM"
   },
   "source": [
    "Первая пара гипотез, которые мы проверим будет следующей:\n",
    "* Н0 - разница в конверсиях групп A и B статистически незначима\n",
    "* Н1 - разница в конверсиях групп A и B статистически значима"
   ]
  },
  {
   "cell_type": "code",
   "execution_count": 31,
   "metadata": {
    "colab": {
     "base_uri": "https://localhost:8080/"
    },
    "id": "jHh8vEZ1NC0p",
    "outputId": "e5213269-53b6-4c70-b7a4-60ca22531714"
   },
   "outputs": [
    {
     "name": "stdout",
     "output_type": "stream",
     "text": [
      "p-value: 0.01102\n",
      "Разница между конверсиями A и B: 0.160\n",
      "Отвергаем нулевую гипотезу: разница статистически значима\n"
     ]
    }
   ],
   "source": [
    "orders_by_users_a = orders_clear_group[orders_clear_group['group']=='A'].groupby('visitor_id', as_index=False).agg({'transaction_id' : pd.Series.nunique})\n",
    "orders_by_users_a.columns = ['visitor_id', 'orders']\n",
    " \n",
    "orders_by_users_b = orders_clear_group[orders_clear_group['group']=='B'].groupby('visitor_id', as_index=False).agg({'transaction_id' : pd.Series.nunique})\n",
    "orders_by_users_b.columns = ['visitor_id', 'orders']\n",
    " \n",
    "sample_a = pd.concat([orders_by_users_a['orders'],pd.Series(0, index=np.arange(visitors[visitors['group']=='A']['visitors'].sum() - len(orders_by_users_a['orders'])), name='orders')],axis=0)\n",
    "sample_b = pd.concat([orders_by_users_b['orders'],pd.Series(0, index=np.arange(visitors[visitors['group']=='B']['visitors'].sum() - len(orders_by_users_b['orders'])), name='orders')],axis=0)\n",
    "\n",
    "alpha = 0.05\n",
    "\n",
    "print(\"p-value: {0:.5f}\".format(st.mannwhitneyu(sample_a, sample_b)[1]))\n",
    "print(\"Разница между конверсиями A и B: {0:.3f}\".format(sample_b.mean()/sample_a.mean()-1))\n",
    "\n",
    "if st.mannwhitneyu(sample_a, sample_b)[1] < alpha:\n",
    "    print('Отвергаем нулевую гипотезу: разница статистически значима')\n",
    "else:\n",
    "    print(\n",
    "        'Не получилось отвергнуть нулевую гипотезу, вывод о различии сделать нельзя'\n",
    "    )"
   ]
  },
  {
   "cell_type": "markdown",
   "metadata": {
    "id": "vCY2E9xFQiWB"
   },
   "source": [
    "P-value по сырым данным для конверсии меньше уровня стат. значимости, что говорит о том, что разница между конверсиями групп статистически значима.\n",
    "\n",
    "Конверсия группы B выше на 16%, чем у группы A.\n",
    "\n",
    "Соответственно, нулевую гипотезу отвергаем."
   ]
  },
  {
   "cell_type": "markdown",
   "metadata": {
    "id": "vJgxtEoBVIO8"
   },
   "source": [
    "<div class=\"alert alert-success\">\n",
    "  \n",
    "  <b>Комментарий ревьюера</b>\n",
    "    \n",
    "  ✔️ Верно выбран сам тест и верно проинтерпретированы  его результаты!\n",
    "\n",
    "</div>\n",
    "<div class=\"alert alert-warning\">\n",
    "    \n",
    "  <b>Комментарий ревьюера</b>\n",
    "    \n",
    "  ⚠️ Только результатом теста следует написать, принимаем или отвергаем нулевую гипотезу.\n",
    "\n",
    "</div> "
   ]
  },
  {
   "cell_type": "markdown",
   "metadata": {
    "id": "_qStXU0w5Ldd"
   },
   "source": [
    "<div class=\"alert alert-block alert-info\">\n",
    "  \n",
    "  <b>Комментарий cтудента</b>\n",
    "    \n",
    "  Добавил)\n",
    "</div>\n",
    "<div class=\"alert alert-success\">\n",
    "  \n",
    "  <b>Комментарий ревьюера v.2</b>\n",
    "    \n",
    "  ✔️ 👌\n",
    "    \n",
    "</div>"
   ]
  },
  {
   "cell_type": "markdown",
   "metadata": {
    "id": "Vd3Ft-Lo5c9g"
   },
   "source": [
    "Теперь проверим следующую пару гипотез:\n",
    "* Н0 - разница в средних чеках статистически незначима\n",
    "* Н1 - разница в средних чеках статистически значима"
   ]
  },
  {
   "cell_type": "code",
   "execution_count": 32,
   "metadata": {
    "colab": {
     "base_uri": "https://localhost:8080/"
    },
    "id": "0o9lx4gaQpnT",
    "outputId": "be7f9ef3-f002-42b6-9944-b34aa3ac3774"
   },
   "outputs": [
    {
     "name": "stdout",
     "output_type": "stream",
     "text": [
      "p-value: 0.829\n",
      "Разница в ср. чеках A и B: 0.287\n",
      "Не получилось отвергнуть нулевую гипотезу, вывод о различии сделать нельзя\n"
     ]
    }
   ],
   "source": [
    "print(\"p-value: {0:.3f}\".format(st.mannwhitneyu(orders_clear_group[orders_clear_group['group']=='A']['revenue'], orders_clear_group[orders_clear_group['group']=='B']['revenue'])[1]))\n",
    "print(\"Разница в ср. чеках A и B: {0:.3f}\".format(orders_clear_group[orders_clear_group['group']=='B']['revenue'].mean()/orders_clear_group[orders_clear_group['group']=='A']['revenue'].mean()-1))\n",
    "\n",
    "if st.mannwhitneyu(orders_clear_group[orders_clear_group['group']=='A']['revenue'], orders_clear_group[orders_clear_group['group']=='B']['revenue'])[1] < alpha:\n",
    "    print('Отвергаем нулевую гипотезу: разница статистически значима')\n",
    "else:\n",
    "    print(\n",
    "        'Не получилось отвергнуть нулевую гипотезу, вывод о различии сделать нельзя'\n",
    "    )"
   ]
  },
  {
   "cell_type": "markdown",
   "metadata": {
    "id": "nbbPhKj8TJuS"
   },
   "source": [
    "P-value по сырым данным для среднего чека выше уровня стат. значимости, что говорит о том, что разница между средними чеками в 28.7% статистически незначима.\n",
    "\n",
    "Теперь отфильтруем аномальные значения и проверим стат. значимость на более чистых данных."
   ]
  },
  {
   "cell_type": "markdown",
   "metadata": {
    "id": "BDKi3s0VVIO9"
   },
   "source": [
    "<div class=\"alert alert-warning\">\n",
    "    \n",
    "  <b>Комментарий ревьюера</b>\n",
    "    \n",
    "  ⚠️ С одной стороны говорим \"разница между средними чеками статистически незначима\" (т.е. не отвергаем нулевую гипотезу), но потом говорим, что \"При этом средний чек группы B выше на ~26%, чем у группы A.\". Выводы немного противоречат друг другу. Тут лучше изменить интерпретацию: наблюдаемое различие в 26%... не является стат. значимым... и .т.д.\n",
    "\n",
    "</div>  \n",
    "\n",
    "<div class=\"alert alert-block alert-info\">\n",
    "  \n",
    "  <b>Комментарий cтудента</b>\n",
    "    \n",
    "  Заменил, но есть вопрос: как может быть, что разница в 26% в средних чеках может быть незначимой? Понятно, что для статистики это так, просто у маркетологов которые могли бы смотреть этот отчёт, как мне кажется, возник бы вопрос - \"А почему разница в 26% считается не значимой? Для нас это очень значимо\" или что-то в таком духе)\n",
    "</div>\n",
    "<div class=\"alert alert-success\">\n",
    "  \n",
    "  <b>Комментарий ревьюера v.2</b>\n",
    "    \n",
    "  ✔️ Так вывод звучит корректней. \n",
    "    \n",
    "Тут все просто. Раз теcт показал, что нет стат значимой разницы между группами - то каково бы различие чека не было, оно не будет являться стат. значимым (у нас тут выбросы дают большое различие чеков, но их всего несколько и на общее различие среднего чека по группам они не влияют)\n",
    "</div>"
   ]
  },
  {
   "cell_type": "markdown",
   "metadata": {
    "id": "vZmKfWt-cj-r"
   },
   "source": [
    "### Проверка конверсии и среднего чека на отфильтрованных данных"
   ]
  },
  {
   "cell_type": "markdown",
   "metadata": {
    "id": "k2Y6Rdsjcxwb"
   },
   "source": [
    "#### Датафреймы для фильтрации и проверки\n",
    "\n",
    "В данном подразделе находятся датафреймы, которые необходимы для фильтрации аномальных значений, так же сама фильтрация проводится здесь."
   ]
  },
  {
   "cell_type": "code",
   "execution_count": 33,
   "metadata": {
    "id": "je7nt5YuR2Sa"
   },
   "outputs": [],
   "source": [
    "abnormal_orders = pd.concat(\n",
    "    [\n",
    "        orders_by_users_a[orders_by_users_a['orders'] > np.percentile(orders_by_users_a['orders'], 95)]['visitor_id'],\n",
    "        orders_by_users_b[orders_by_users_b['orders'] > np.percentile(orders_by_users_a['orders'], 95)]['visitor_id'],\n",
    "    ],\n",
    "    axis=0)\n",
    "\n",
    "abnormal_sum = orders_clear_group[orders_clear_group['revenue'] > np.percentile(orders_clear_group['revenue'], 95)]['visitor_id']\n",
    "\n",
    "abnormal_users = (\n",
    "    pd.concat([abnormal_orders, abnormal_sum], axis=0)\n",
    "    .drop_duplicates()\n",
    ")"
   ]
  },
  {
   "cell_type": "markdown",
   "metadata": {
    "id": "cRNoiDJaVIO9"
   },
   "source": [
    "<div class=\"alert alert-warning\">\n",
    "    \n",
    "  <b>Комментарий ревьюера</b>\n",
    "    \n",
    "  ⚠️ Обрезку выбросов не забыть откорректировать.\n",
    "    \n",
    "  ⚠️ И тут можно или непосредственно вычисления по 95 / 99 перцентилю, например:\n",
    "```python \n",
    "revenue_lim = np.percentile(orders['revenue'], 95)`\n",
    "```\n",
    "или задавать в качестве отдельной переменой:\n",
    "\n",
    "```python \n",
    "revenue_lim = 100000\n",
    "usersWithExpensiveOrders = orders[orders['revenue'] > revenue_lim]['visitorId']`\n",
    "```\n",
    "\n",
    "</div>\n",
    "\n",
    "<div class=\"alert alert-block alert-info\">\n",
    "  \n",
    "  <b>Комментарий cтудента</b>\n",
    "    \n",
    "  Откорректировал, но в переменную решил не выносить, вроде итак работает\n",
    "</div>\n",
    "<div class=\"alert alert-success\">\n",
    "  \n",
    "  <b>Комментарий ревьюера v.2</b>\n",
    "    \n",
    "  ✔️ Лучше оставлять меньше хардкода, т.к. при смене данных можно забыть поменять значения везде в коде, а переменную мы можем неоднократно использовать и при ее смене изменятся сразу все расчеты. 🙂\n",
    "</div>"
   ]
  },
  {
   "cell_type": "code",
   "execution_count": 34,
   "metadata": {
    "id": "Dv-172hkY5Cl"
   },
   "outputs": [],
   "source": [
    "visitors_a_daily = visitors[visitors['group'] == 'A'][['date', 'visitors']]\n",
    "visitors_a_daily.columns = ['date', 'visitors_per_date_a']\n",
    "\n",
    "visitors_a_cummulative = visitors_a_daily.apply(\n",
    "    lambda x: visitors_a_daily[visitors_a_daily['date'] <= x['date']].agg(\n",
    "        {'date': 'max', 'visitors_per_date_a': 'sum'}\n",
    "    ),\n",
    "    axis=1,\n",
    ")\n",
    "visitors_a_cummulative.columns = ['date', 'visitors_cummulative_a']\n",
    "\n",
    "orders_a_daily = (\n",
    "    orders_clear_group[orders_clear_group['group'] == 'A'][['date', 'transaction_id', 'visitor_id', 'revenue']]\n",
    "    .groupby('date', as_index=False)\n",
    "    .agg({'transaction_id': pd.Series.nunique, 'revenue': 'sum'})\n",
    ")\n",
    "orders_a_daily.columns = ['date', 'orders_per_date_a', 'revenue_per_date_a']\n",
    "\n",
    "orders_a_cummulative = orders_a_daily.apply(\n",
    "    lambda x: orders_a_daily[orders_a_daily['date'] <= x['date']].agg(\n",
    "        {'date': 'max', 'orders_per_date_a': 'sum', 'revenue_per_date_a': 'sum'}\n",
    "    ),\n",
    "    axis=1,\n",
    ").sort_values(by=['date'])\n",
    "orders_a_cummulative.columns = [\n",
    "    'date',\n",
    "    'orders_cummulative_a',\n",
    "    'revenue_cummulative_a',\n",
    "]"
   ]
  },
  {
   "cell_type": "code",
   "execution_count": 35,
   "metadata": {
    "id": "wbYxualqaPO0"
   },
   "outputs": [],
   "source": [
    "visitors_b_daily = visitors[visitors['group'] == 'A'][['date', 'visitors']]\n",
    "visitors_b_daily.columns = ['date', 'visitors_per_date_b']\n",
    "\n",
    "visitors_b_cummulative = visitors_b_daily.apply(\n",
    "    lambda x: visitors_b_daily[visitors_b_daily['date'] <= x['date']].agg(\n",
    "        {'date': 'max', 'visitors_per_date_b': 'sum'}\n",
    "    ),\n",
    "    axis=1,\n",
    ")\n",
    "visitors_b_cummulative.columns = ['date', 'visitors_cummulative_b']\n",
    "\n",
    "orders_b_daily = (\n",
    "    orders_clear_group[orders_clear_group['group'] == 'A'][['date', 'transaction_id', 'visitor_id', 'revenue']]\n",
    "    .groupby('date', as_index=False)\n",
    "    .agg({'transaction_id': pd.Series.nunique, 'revenue': 'sum'})\n",
    ")\n",
    "orders_b_daily.columns = ['date', 'orders_per_date_b', 'revenue_per_date_b']\n",
    "\n",
    "orders_b_cummulative = orders_b_daily.apply(\n",
    "    lambda x: orders_b_daily[orders_b_daily['date'] <= x['date']].agg(\n",
    "        {'date': 'max', 'orders_per_date_b': 'sum', 'revenue_per_date_b': 'sum'}\n",
    "    ),\n",
    "    axis=1,\n",
    ").sort_values(by=['date'])\n",
    "orders_b_cummulative.columns = [\n",
    "    'date',\n",
    "    'orders_cummulative_b',\n",
    "    'revenue_cummulative_b',\n",
    "]"
   ]
  },
  {
   "cell_type": "code",
   "execution_count": 36,
   "metadata": {
    "id": "4PgebQuLajKT"
   },
   "outputs": [],
   "source": [
    "data = (\n",
    "    orders_a_daily.merge(\n",
    "        orders_b_daily, left_on='date', right_on='date', how='left'\n",
    "    )\n",
    "    .merge(orders_a_cummulative, left_on='date', right_on='date', how='left')\n",
    "    .merge(orders_b_cummulative, left_on='date', right_on='date', how='left')\n",
    "    .merge(visitors_a_daily, left_on='date', right_on='date', how='left')\n",
    "    .merge(visitors_b_daily, left_on='date', right_on='date', how='left')\n",
    "    .merge(visitors_a_cummulative, left_on='date', right_on='date', how='left')\n",
    "    .merge(visitors_b_cummulative, left_on='date', right_on='date', how='left')\n",
    ")"
   ]
  },
  {
   "cell_type": "code",
   "execution_count": 37,
   "metadata": {
    "id": "iOVXyd8fXO-8"
   },
   "outputs": [],
   "source": [
    "sample_a_filtered = pd.concat(\n",
    "    [\n",
    "        orders_by_users_a[\n",
    "            np.logical_not(orders_by_users_a['visitor_id'].isin(abnormal_users))\n",
    "        ]['orders'],\n",
    "        pd.Series(\n",
    "            0,\n",
    "            index=np.arange(\n",
    "                data['visitors_per_date_a'].sum() - len(orders_by_users_a['orders'])\n",
    "            ),\n",
    "            name='orders',\n",
    "        ),\n",
    "    ],\n",
    "    axis=0,\n",
    ")\n",
    "\n",
    "sample_b_filtered = pd.concat(\n",
    "    [\n",
    "        orders_by_users_b[\n",
    "            np.logical_not(orders_by_users_b['visitor_id'].isin(abnormal_users))\n",
    "        ]['orders'],\n",
    "        pd.Series(\n",
    "            0,\n",
    "            index=np.arange(\n",
    "                data['visitors_per_date_b'].sum() - len(orders_by_users_b['orders'])\n",
    "            ),\n",
    "            name='orders',\n",
    "        ),\n",
    "    ],\n",
    "    axis=0,\n",
    ")"
   ]
  },
  {
   "cell_type": "markdown",
   "metadata": {
    "id": "xcRe5gFGc8f2"
   },
   "source": [
    "#### Проверка\n",
    "\n",
    "После того, как отфильтровали аномальные значения, проверим стат. значимость.\n",
    "Начнём с разницы между конверсиями двух групп."
   ]
  },
  {
   "cell_type": "code",
   "execution_count": 38,
   "metadata": {
    "colab": {
     "base_uri": "https://localhost:8080/"
    },
    "id": "zV5DwUCkbAeG",
    "outputId": "8bacafd4-b258-45ea-c650-17a68bd1dcca"
   },
   "outputs": [
    {
     "name": "stdout",
     "output_type": "stream",
     "text": [
      "p-value: 0.01062\n",
      "Разница между конверсиями A и B: 0.185\n",
      "Отвергаем нулевую гипотезу: разница статистически значима\n"
     ]
    }
   ],
   "source": [
    "print(\"p-value: {0:.5f}\".format(st.mannwhitneyu(sample_a_filtered, sample_b_filtered)[1]))\n",
    "print(\"Разница между конверсиями A и B: {0:.3f}\".format(sample_b_filtered.mean()/sample_a_filtered.mean()-1))\n",
    "\n",
    "if st.mannwhitneyu(sample_a_filtered, sample_b_filtered)[1] < alpha:\n",
    "    print('Отвергаем нулевую гипотезу: разница статистически значима')\n",
    "else:\n",
    "    print(\n",
    "        'Не получилось отвергнуть нулевую гипотезу, вывод о различии сделать нельзя'\n",
    "    )"
   ]
  },
  {
   "cell_type": "markdown",
   "metadata": {
    "id": "U-YH9-8vbh7q"
   },
   "source": [
    "Значение p-value меньше уровня статистической значимости, что всё так же означает, что разница между конверсиями групп статистически значима.\n",
    "\n",
    "Разница в конверсии между группами B и A увеличилась на 2.5% относительно замеров на сырых данных и составила - 18.5%.\n",
    "\n",
    "Осталось проверить разницу в средних чеках."
   ]
  },
  {
   "cell_type": "markdown",
   "metadata": {
    "id": "RY5DmzhBVIO_"
   },
   "source": [
    "<div class=\"alert alert-success\">\n",
    "  \n",
    "  <b>Комментарий ревьюера</b>\n",
    "    \n",
    "  ✔️ Верно!\n",
    "</div>"
   ]
  },
  {
   "cell_type": "code",
   "execution_count": 39,
   "metadata": {
    "colab": {
     "base_uri": "https://localhost:8080/"
    },
    "id": "VsJAn5yrbg6T",
    "outputId": "dbb556ba-be83-466d-e26d-caef3fe2c2f8"
   },
   "outputs": [
    {
     "name": "stdout",
     "output_type": "stream",
     "text": [
      "0.727\n",
      "-0.034\n"
     ]
    }
   ],
   "source": [
    "print(\n",
    "    '{0:.3f}'.format(\n",
    "        st.mannwhitneyu(\n",
    "            orders_clear_group[\n",
    "                np.logical_and(\n",
    "                    orders_clear_group['group'] == 'A',\n",
    "                    np.logical_not(orders_clear_group['visitor_id'].isin(abnormal_users)),\n",
    "                )\n",
    "            ]['revenue'],\n",
    "            orders_clear_group[\n",
    "                np.logical_and(\n",
    "                    orders_clear_group['group'] == 'B',\n",
    "                    np.logical_not(orders_clear_group['visitor_id'].isin(abnormal_users)),\n",
    "                )\n",
    "            ]['revenue'],\n",
    "        )[1]\n",
    "    )\n",
    ")\n",
    "\n",
    "print(\n",
    "    \"{0:.3f}\".format(\n",
    "        orders_clear_group[\n",
    "            np.logical_and(\n",
    "                orders_clear_group['group'] == 'B',\n",
    "                np.logical_not(orders_clear_group['visitor_id'].isin(abnormal_users)),\n",
    "            )\n",
    "        ]['revenue'].mean()\n",
    "        / orders_clear_group[\n",
    "            np.logical_and(\n",
    "                orders_clear_group['group'] == 'A',\n",
    "                np.logical_not(orders_clear_group['visitor_id'].isin(abnormal_users)),\n",
    "            )\n",
    "        ]['revenue'].mean()\n",
    "        - 1\n",
    "    )\n",
    ")"
   ]
  },
  {
   "cell_type": "markdown",
   "metadata": {
    "id": "Ez8vAiW-cZ0a"
   },
   "source": [
    "Значения на отфильтрованных данных изменились: средний чек варианта А стал выше на 3.4%. При этом нулевая гипотеза всё так же не отвергается, что говорит о том, что значимых различий между средними чеками по группам нет."
   ]
  },
  {
   "cell_type": "markdown",
   "metadata": {
    "id": "973h2fuPVIO_"
   },
   "source": [
    "<div class=\"alert alert-danger\">\n",
    "    \n",
    "  <b>Комментарий ревьюера</b>\n",
    "    \n",
    "  ❌ Явная ошибка в расчетах, мы тут по сырым данным тест проводим.\n",
    "</div>\n",
    "\n",
    "<div class=\"alert alert-block alert-info\">\n",
    "  \n",
    "  <b>Комментарий cтудента</b>\n",
    "    \n",
    "  Поменял, но не уверен, что правильно\n",
    "</div>\n",
    "<div class=\"alert alert-success\">\n",
    "  \n",
    "  <b>Комментарий ревьюера v.2</b>\n",
    "    \n",
    "  ✔️ Теперь верно. И тут не отвергаем нулевую гипотезу.\n",
    "</div>"
   ]
  },
  {
   "cell_type": "markdown",
   "metadata": {
    "id": "KIDagASTccqL"
   },
   "source": [
    "## Выводы"
   ]
  },
  {
   "cell_type": "markdown",
   "metadata": {
    "id": "JWdT8nXbO1S4"
   },
   "source": [
    "Таким образом, подводя итоги анализа A/B-теста, можно сделать следующие выводы:\n",
    "\n",
    "1. Вариант B по окончании теста имеет лучшие результаты по конверсии (выше на 18.5%).\n",
    "2. Разница в среднем чеке между двумя группами статистически незначима.\n",
    "\n",
    "Исходя из данных выводов, рекомендуется остановить тестирование и выбрать вариант B, т.к. при большей конверсии и примерно том же среднем чеке он способен обеспечить прирост выручки."
   ]
  },
  {
   "cell_type": "markdown",
   "metadata": {
    "id": "VALp7pN6VIPA"
   },
   "source": [
    "<div class=\"alert alert-warning\">\n",
    "    \n",
    "  <b>Комментарий ревьюера</b>\n",
    "    \n",
    "  ⚠️  Не до конца согласен с выводом! Тут тест окрасился только на половину - по конверсии. Но это тоже хорошо, т.к. стат.значимой разницы по среднему чеку нет (чек не увеличился, но и не уменьшился) то при выросшей конверсии с сохранившимся средним чеком выручка будет так-же расти! И значит мы заканчиваем анализ A/B-теста - он оказался успешным!\n",
    "\n",
    "</div>\n",
    "\n",
    "<div class=\"alert alert-block alert-info\">\n",
    "  \n",
    "  <b>Комментарий cтудента</b>\n",
    "    \n",
    "  Скорректировал) \n",
    "</div>\n",
    "<div class=\"alert alert-success\">\n",
    "  \n",
    "  <b>Комментарий ревьюера v.2</b>\n",
    "    \n",
    "  ✔️ Отлично!\n",
    "</div>"
   ]
  },
  {
   "cell_type": "markdown",
   "metadata": {
    "id": "1ki44KwkVIPA"
   },
   "source": [
    "<div style=\"border:solid black 2px; padding: 20px\">\n",
    "  \n",
    "    \n",
    "  <b>Чек-лист доработок</b>\n",
    "    \n",
    "  📃 Проверить корректность разбиения пользователей на группы.\n",
    "  \n",
    "  📃 Пересмотреть выбросы и перцентили по количеству заказов.\n",
    "    \n",
    "  📃 Сформулировать нулевую и альтернативную гипотезы.\n",
    "    \n",
    "  📃 Проверить результат теста среднего чека по очищенным данным.\n",
    "    \n",
    "  \n",
    "Жду твой проект на повторное ревью. Не стесняйся оставлять комментарии и задавать вопросы. Удачи! Все получится.\n",
    "</div>"
   ]
  },
  {
   "cell_type": "markdown",
   "metadata": {},
   "source": [
    "<div style=\"border:solid black 2px; padding: 20px\">\n",
    "  \n",
    "    \n",
    "  <b>Чек-лист доработок v.2</b>\n",
    "    \n",
    "  📃 Пересмотреть выбросы и перцентили по количеству заказов.\n",
    "    \n",
    "Исправляй и присылай проект на ревью.\n",
    "</div>"
   ]
  }
 ],
 "metadata": {
  "ExecuteTimeLog": [
   {
    "duration": 1259,
    "start_time": "2022-10-04T15:46:18.991Z"
   },
   {
    "duration": 2,
    "start_time": "2022-10-04T15:46:20.251Z"
   },
   {
    "duration": 204,
    "start_time": "2022-10-04T15:46:20.255Z"
   },
   {
    "duration": 15,
    "start_time": "2022-10-04T15:46:20.460Z"
   },
   {
    "duration": 13,
    "start_time": "2022-10-04T15:46:20.476Z"
   },
   {
    "duration": 10,
    "start_time": "2022-10-04T15:46:20.491Z"
   },
   {
    "duration": 18,
    "start_time": "2022-10-04T15:46:20.502Z"
   },
   {
    "duration": 4,
    "start_time": "2022-10-04T15:46:20.522Z"
   },
   {
    "duration": 20,
    "start_time": "2022-10-04T15:46:20.528Z"
   },
   {
    "duration": 6,
    "start_time": "2022-10-04T15:46:20.551Z"
   },
   {
    "duration": 11,
    "start_time": "2022-10-04T15:46:20.558Z"
   },
   {
    "duration": 47,
    "start_time": "2022-10-04T15:46:20.571Z"
   },
   {
    "duration": 12,
    "start_time": "2022-10-04T15:46:20.620Z"
   },
   {
    "duration": 272,
    "start_time": "2022-10-04T15:46:20.634Z"
   },
   {
    "duration": 262,
    "start_time": "2022-10-04T15:46:20.908Z"
   },
   {
    "duration": 192,
    "start_time": "2022-10-04T15:46:21.172Z"
   },
   {
    "duration": 6,
    "start_time": "2022-10-04T15:46:21.365Z"
   },
   {
    "duration": 362,
    "start_time": "2022-10-04T15:46:21.372Z"
   },
   {
    "duration": 198,
    "start_time": "2022-10-04T15:46:21.736Z"
   },
   {
    "duration": 267,
    "start_time": "2022-10-04T15:46:21.935Z"
   },
   {
    "duration": 10,
    "start_time": "2022-10-04T15:46:22.208Z"
   },
   {
    "duration": 6,
    "start_time": "2022-10-04T15:46:22.219Z"
   },
   {
    "duration": 141,
    "start_time": "2022-10-04T15:46:22.226Z"
   },
   {
    "duration": 5,
    "start_time": "2022-10-04T15:46:22.368Z"
   },
   {
    "duration": 139,
    "start_time": "2022-10-04T15:46:22.374Z"
   },
   {
    "duration": 4,
    "start_time": "2022-10-04T15:46:22.515Z"
   },
   {
    "duration": 171,
    "start_time": "2022-10-04T15:46:22.521Z"
   },
   {
    "duration": 15,
    "start_time": "2022-10-04T15:46:22.696Z"
   },
   {
    "duration": 8,
    "start_time": "2022-10-04T15:46:22.713Z"
   },
   {
    "duration": 108,
    "start_time": "2022-10-04T15:46:22.723Z"
   },
   {
    "duration": 96,
    "start_time": "2022-10-04T15:46:22.833Z"
   },
   {
    "duration": 20,
    "start_time": "2022-10-04T15:46:22.931Z"
   },
   {
    "duration": 7,
    "start_time": "2022-10-04T15:46:22.952Z"
   },
   {
    "duration": 25,
    "start_time": "2022-10-04T15:46:22.960Z"
   },
   {
    "duration": 30,
    "start_time": "2022-10-04T15:46:22.986Z"
   },
   {
    "duration": 13,
    "start_time": "2022-10-04T16:00:11.193Z"
   },
   {
    "duration": 1273,
    "start_time": "2022-10-06T07:52:43.606Z"
   },
   {
    "duration": 3,
    "start_time": "2022-10-06T07:52:44.881Z"
   },
   {
    "duration": 197,
    "start_time": "2022-10-06T07:52:44.885Z"
   },
   {
    "duration": 13,
    "start_time": "2022-10-06T07:52:45.084Z"
   },
   {
    "duration": 15,
    "start_time": "2022-10-06T07:52:45.099Z"
   },
   {
    "duration": 26,
    "start_time": "2022-10-06T07:52:45.115Z"
   },
   {
    "duration": 26,
    "start_time": "2022-10-06T07:52:45.142Z"
   },
   {
    "duration": 13,
    "start_time": "2022-10-06T07:52:45.170Z"
   },
   {
    "duration": 23,
    "start_time": "2022-10-06T07:52:45.184Z"
   },
   {
    "duration": 7,
    "start_time": "2022-10-06T07:52:45.209Z"
   },
   {
    "duration": 16,
    "start_time": "2022-10-06T07:52:45.217Z"
   },
   {
    "duration": 4,
    "start_time": "2022-10-06T07:52:45.235Z"
   },
   {
    "duration": 12,
    "start_time": "2022-10-06T07:52:45.240Z"
   },
   {
    "duration": 8,
    "start_time": "2022-10-06T07:52:45.253Z"
   },
   {
    "duration": 8,
    "start_time": "2022-10-06T07:52:45.262Z"
   },
   {
    "duration": 16,
    "start_time": "2022-10-06T07:52:45.271Z"
   },
   {
    "duration": 10,
    "start_time": "2022-10-06T07:52:45.289Z"
   },
   {
    "duration": 15,
    "start_time": "2022-10-06T07:52:45.301Z"
   },
   {
    "duration": 73,
    "start_time": "2022-10-06T07:52:45.317Z"
   },
   {
    "duration": 284,
    "start_time": "2022-10-06T07:52:45.392Z"
   },
   {
    "duration": 269,
    "start_time": "2022-10-06T07:52:45.677Z"
   },
   {
    "duration": 204,
    "start_time": "2022-10-06T07:52:45.947Z"
   },
   {
    "duration": 7,
    "start_time": "2022-10-06T07:52:46.153Z"
   },
   {
    "duration": 328,
    "start_time": "2022-10-06T07:52:46.161Z"
   },
   {
    "duration": 221,
    "start_time": "2022-10-06T07:52:46.490Z"
   },
   {
    "duration": 346,
    "start_time": "2022-10-06T07:52:46.713Z"
   },
   {
    "duration": 15,
    "start_time": "2022-10-06T07:52:47.061Z"
   },
   {
    "duration": 7,
    "start_time": "2022-10-06T07:52:47.080Z"
   },
   {
    "duration": 175,
    "start_time": "2022-10-06T07:52:47.089Z"
   },
   {
    "duration": 4,
    "start_time": "2022-10-06T07:52:47.265Z"
   },
   {
    "duration": 149,
    "start_time": "2022-10-06T07:52:47.271Z"
   },
   {
    "duration": 4,
    "start_time": "2022-10-06T07:52:47.421Z"
   },
   {
    "duration": 247,
    "start_time": "2022-10-06T07:52:47.433Z"
   },
   {
    "duration": 13,
    "start_time": "2022-10-06T07:52:47.682Z"
   },
   {
    "duration": 26,
    "start_time": "2022-10-06T07:52:47.697Z"
   },
   {
    "duration": 100,
    "start_time": "2022-10-06T07:52:47.725Z"
   },
   {
    "duration": 115,
    "start_time": "2022-10-06T07:52:47.826Z"
   },
   {
    "duration": 29,
    "start_time": "2022-10-06T07:52:47.942Z"
   },
   {
    "duration": 13,
    "start_time": "2022-10-06T07:52:47.973Z"
   },
   {
    "duration": 51,
    "start_time": "2022-10-06T07:52:47.988Z"
   },
   {
    "duration": 13,
    "start_time": "2022-10-06T07:52:48.041Z"
   },
   {
    "duration": 1024,
    "start_time": "2022-10-06T07:55:39.651Z"
   },
   {
    "duration": 2,
    "start_time": "2022-10-06T07:55:40.677Z"
   },
   {
    "duration": 79,
    "start_time": "2022-10-06T07:55:40.681Z"
   },
   {
    "duration": 12,
    "start_time": "2022-10-06T07:55:40.762Z"
   },
   {
    "duration": 11,
    "start_time": "2022-10-06T07:55:40.776Z"
   },
   {
    "duration": 9,
    "start_time": "2022-10-06T07:55:40.789Z"
   },
   {
    "duration": 20,
    "start_time": "2022-10-06T07:55:40.799Z"
   },
   {
    "duration": 3,
    "start_time": "2022-10-06T07:55:40.821Z"
   },
   {
    "duration": 23,
    "start_time": "2022-10-06T07:55:40.826Z"
   },
   {
    "duration": 6,
    "start_time": "2022-10-06T07:55:40.851Z"
   },
   {
    "duration": 9,
    "start_time": "2022-10-06T07:55:40.859Z"
   },
   {
    "duration": 3,
    "start_time": "2022-10-06T07:55:40.870Z"
   },
   {
    "duration": 7,
    "start_time": "2022-10-06T07:55:40.875Z"
   },
   {
    "duration": 6,
    "start_time": "2022-10-06T07:55:40.883Z"
   },
   {
    "duration": 5,
    "start_time": "2022-10-06T07:55:40.891Z"
   },
   {
    "duration": 11,
    "start_time": "2022-10-06T07:55:40.933Z"
   },
   {
    "duration": 10,
    "start_time": "2022-10-06T07:55:40.946Z"
   },
   {
    "duration": 16,
    "start_time": "2022-10-06T07:55:40.957Z"
   },
   {
    "duration": 64,
    "start_time": "2022-10-06T07:55:40.974Z"
   },
   {
    "duration": 276,
    "start_time": "2022-10-06T07:55:41.040Z"
   },
   {
    "duration": 280,
    "start_time": "2022-10-06T07:55:41.318Z"
   },
   {
    "duration": 240,
    "start_time": "2022-10-06T07:55:41.600Z"
   },
   {
    "duration": 6,
    "start_time": "2022-10-06T07:55:41.842Z"
   },
   {
    "duration": 297,
    "start_time": "2022-10-06T07:55:41.850Z"
   },
   {
    "duration": 220,
    "start_time": "2022-10-06T07:55:42.149Z"
   },
   {
    "duration": 281,
    "start_time": "2022-10-06T07:55:42.370Z"
   },
   {
    "duration": 11,
    "start_time": "2022-10-06T07:55:42.653Z"
   },
   {
    "duration": 9,
    "start_time": "2022-10-06T07:55:42.668Z"
   },
   {
    "duration": 161,
    "start_time": "2022-10-06T07:55:42.679Z"
   },
   {
    "duration": 4,
    "start_time": "2022-10-06T07:55:42.842Z"
   },
   {
    "duration": 149,
    "start_time": "2022-10-06T07:55:42.847Z"
   },
   {
    "duration": 5,
    "start_time": "2022-10-06T07:55:42.997Z"
   },
   {
    "duration": 242,
    "start_time": "2022-10-06T07:55:43.003Z"
   },
   {
    "duration": 13,
    "start_time": "2022-10-06T07:55:43.247Z"
   },
   {
    "duration": 9,
    "start_time": "2022-10-06T07:55:43.262Z"
   },
   {
    "duration": 112,
    "start_time": "2022-10-06T07:55:43.272Z"
   },
   {
    "duration": 107,
    "start_time": "2022-10-06T07:55:43.386Z"
   },
   {
    "duration": 26,
    "start_time": "2022-10-06T07:55:43.494Z"
   },
   {
    "duration": 15,
    "start_time": "2022-10-06T07:55:43.522Z"
   },
   {
    "duration": 47,
    "start_time": "2022-10-06T07:55:43.538Z"
   },
   {
    "duration": 14,
    "start_time": "2022-10-06T07:55:43.587Z"
   },
   {
    "duration": 101,
    "start_time": "2022-10-06T07:56:52.651Z"
   },
   {
    "duration": 14,
    "start_time": "2022-10-06T07:57:01.002Z"
   },
   {
    "duration": 11,
    "start_time": "2022-10-06T07:57:18.100Z"
   },
   {
    "duration": 20,
    "start_time": "2022-10-06T08:03:06.080Z"
   },
   {
    "duration": 9,
    "start_time": "2022-10-06T08:03:18.282Z"
   },
   {
    "duration": 17,
    "start_time": "2022-10-06T08:04:44.900Z"
   },
   {
    "duration": 7,
    "start_time": "2022-10-06T08:05:02.064Z"
   },
   {
    "duration": 1459,
    "start_time": "2022-10-06T08:14:45.263Z"
   },
   {
    "duration": 2,
    "start_time": "2022-10-06T08:14:46.725Z"
   },
   {
    "duration": 199,
    "start_time": "2022-10-06T08:14:47.649Z"
   },
   {
    "duration": 16,
    "start_time": "2022-10-06T08:14:48.767Z"
   },
   {
    "duration": 15,
    "start_time": "2022-10-06T08:14:49.565Z"
   },
   {
    "duration": 9,
    "start_time": "2022-10-06T08:14:50.295Z"
   },
   {
    "duration": 18,
    "start_time": "2022-10-06T08:14:50.946Z"
   },
   {
    "duration": 5,
    "start_time": "2022-10-06T08:14:54.700Z"
   },
   {
    "duration": 22,
    "start_time": "2022-10-06T08:14:55.238Z"
   },
   {
    "duration": 8,
    "start_time": "2022-10-06T08:14:58.030Z"
   },
   {
    "duration": 12,
    "start_time": "2022-10-06T08:14:58.209Z"
   },
   {
    "duration": 5,
    "start_time": "2022-10-06T08:15:00.200Z"
   },
   {
    "duration": 8,
    "start_time": "2022-10-06T08:15:00.594Z"
   },
   {
    "duration": 12,
    "start_time": "2022-10-06T08:15:01.586Z"
   },
   {
    "duration": 7,
    "start_time": "2022-10-06T08:15:04.372Z"
   },
   {
    "duration": 15,
    "start_time": "2022-10-06T08:15:05.469Z"
   },
   {
    "duration": 3,
    "start_time": "2022-10-06T08:15:10.340Z"
   },
   {
    "duration": 12,
    "start_time": "2022-10-06T08:15:13.769Z"
   },
   {
    "duration": 76,
    "start_time": "2022-10-06T08:15:55.662Z"
   },
   {
    "duration": 285,
    "start_time": "2022-10-06T08:16:53.909Z"
   },
   {
    "duration": 299,
    "start_time": "2022-10-06T08:16:55.047Z"
   },
   {
    "duration": 220,
    "start_time": "2022-10-06T08:16:58.618Z"
   },
   {
    "duration": 7,
    "start_time": "2022-10-06T08:17:03.161Z"
   },
   {
    "duration": 331,
    "start_time": "2022-10-06T08:17:04.060Z"
   },
   {
    "duration": 230,
    "start_time": "2022-10-06T08:17:08.545Z"
   },
   {
    "duration": 326,
    "start_time": "2022-10-06T08:17:13.128Z"
   },
   {
    "duration": 12,
    "start_time": "2022-10-06T08:17:46.698Z"
   },
   {
    "duration": 7,
    "start_time": "2022-10-06T08:17:47.080Z"
   },
   {
    "duration": 169,
    "start_time": "2022-10-06T08:17:47.622Z"
   },
   {
    "duration": 16,
    "start_time": "2022-10-06T08:18:17.069Z"
   },
   {
    "duration": 6,
    "start_time": "2022-10-06T08:18:38.195Z"
   },
   {
    "duration": 10,
    "start_time": "2022-10-06T08:19:37.317Z"
   },
   {
    "duration": 10,
    "start_time": "2022-10-06T08:21:12.865Z"
   },
   {
    "duration": 256,
    "start_time": "2022-10-06T08:21:51.111Z"
   },
   {
    "duration": 1176,
    "start_time": "2022-10-06T08:22:03.108Z"
   },
   {
    "duration": 3,
    "start_time": "2022-10-06T08:22:04.286Z"
   },
   {
    "duration": 85,
    "start_time": "2022-10-06T08:22:04.291Z"
   },
   {
    "duration": 14,
    "start_time": "2022-10-06T08:22:04.378Z"
   },
   {
    "duration": 12,
    "start_time": "2022-10-06T08:22:04.393Z"
   },
   {
    "duration": 12,
    "start_time": "2022-10-06T08:22:04.406Z"
   },
   {
    "duration": 29,
    "start_time": "2022-10-06T08:22:04.420Z"
   },
   {
    "duration": 9,
    "start_time": "2022-10-06T08:22:04.451Z"
   },
   {
    "duration": 37,
    "start_time": "2022-10-06T08:22:04.462Z"
   },
   {
    "duration": 16,
    "start_time": "2022-10-06T08:22:04.502Z"
   },
   {
    "duration": 25,
    "start_time": "2022-10-06T08:22:04.520Z"
   },
   {
    "duration": 10,
    "start_time": "2022-10-06T08:22:04.547Z"
   },
   {
    "duration": 18,
    "start_time": "2022-10-06T08:22:04.559Z"
   },
   {
    "duration": 9,
    "start_time": "2022-10-06T08:22:04.579Z"
   },
   {
    "duration": 10,
    "start_time": "2022-10-06T08:22:04.590Z"
   },
   {
    "duration": 15,
    "start_time": "2022-10-06T08:22:04.601Z"
   },
   {
    "duration": 6,
    "start_time": "2022-10-06T08:22:04.618Z"
   },
   {
    "duration": 20,
    "start_time": "2022-10-06T08:22:04.625Z"
   },
   {
    "duration": 65,
    "start_time": "2022-10-06T08:22:04.654Z"
   },
   {
    "duration": 305,
    "start_time": "2022-10-06T08:22:04.721Z"
   },
   {
    "duration": 282,
    "start_time": "2022-10-06T08:22:05.028Z"
   },
   {
    "duration": 223,
    "start_time": "2022-10-06T08:22:05.312Z"
   },
   {
    "duration": 7,
    "start_time": "2022-10-06T08:22:05.537Z"
   },
   {
    "duration": 322,
    "start_time": "2022-10-06T08:22:05.546Z"
   },
   {
    "duration": 244,
    "start_time": "2022-10-06T08:22:05.870Z"
   },
   {
    "duration": 343,
    "start_time": "2022-10-06T08:22:06.116Z"
   },
   {
    "duration": 176,
    "start_time": "2022-10-06T08:22:06.461Z"
   },
   {
    "duration": 1130,
    "start_time": "2022-10-06T08:22:06.641Z"
   },
   {
    "duration": 0,
    "start_time": "2022-10-06T08:22:07.772Z"
   },
   {
    "duration": 0,
    "start_time": "2022-10-06T08:22:07.773Z"
   },
   {
    "duration": 0,
    "start_time": "2022-10-06T08:22:07.775Z"
   },
   {
    "duration": 0,
    "start_time": "2022-10-06T08:22:07.776Z"
   },
   {
    "duration": 0,
    "start_time": "2022-10-06T08:22:07.777Z"
   },
   {
    "duration": 0,
    "start_time": "2022-10-06T08:22:07.777Z"
   },
   {
    "duration": 0,
    "start_time": "2022-10-06T08:22:07.779Z"
   },
   {
    "duration": 0,
    "start_time": "2022-10-06T08:22:07.779Z"
   },
   {
    "duration": 0,
    "start_time": "2022-10-06T08:22:07.781Z"
   },
   {
    "duration": 0,
    "start_time": "2022-10-06T08:22:07.782Z"
   },
   {
    "duration": 0,
    "start_time": "2022-10-06T08:22:07.783Z"
   },
   {
    "duration": 0,
    "start_time": "2022-10-06T08:22:07.784Z"
   },
   {
    "duration": 6,
    "start_time": "2022-10-06T08:22:59.789Z"
   },
   {
    "duration": 238,
    "start_time": "2022-10-06T08:27:08.856Z"
   },
   {
    "duration": 5,
    "start_time": "2022-10-06T08:27:13.127Z"
   },
   {
    "duration": 197,
    "start_time": "2022-10-06T08:28:09.409Z"
   },
   {
    "duration": 16,
    "start_time": "2022-10-06T08:28:16.422Z"
   },
   {
    "duration": 13,
    "start_time": "2022-10-06T08:29:29.685Z"
   },
   {
    "duration": 111,
    "start_time": "2022-10-06T08:29:35.024Z"
   },
   {
    "duration": 130,
    "start_time": "2022-10-06T08:29:35.445Z"
   },
   {
    "duration": 23,
    "start_time": "2022-10-06T08:29:37.194Z"
   },
   {
    "duration": 10,
    "start_time": "2022-10-06T08:29:37.526Z"
   },
   {
    "duration": 51,
    "start_time": "2022-10-06T08:29:39.507Z"
   },
   {
    "duration": 13,
    "start_time": "2022-10-06T08:29:45.847Z"
   },
   {
    "duration": 1434,
    "start_time": "2022-10-06T16:06:53.458Z"
   },
   {
    "duration": 3,
    "start_time": "2022-10-06T16:06:54.895Z"
   },
   {
    "duration": 245,
    "start_time": "2022-10-06T16:06:54.899Z"
   },
   {
    "duration": 16,
    "start_time": "2022-10-06T16:06:55.146Z"
   },
   {
    "duration": 13,
    "start_time": "2022-10-06T16:06:55.164Z"
   },
   {
    "duration": 12,
    "start_time": "2022-10-06T16:06:55.179Z"
   },
   {
    "duration": 21,
    "start_time": "2022-10-06T16:06:55.193Z"
   },
   {
    "duration": 5,
    "start_time": "2022-10-06T16:06:55.217Z"
   },
   {
    "duration": 25,
    "start_time": "2022-10-06T16:06:55.224Z"
   },
   {
    "duration": 7,
    "start_time": "2022-10-06T16:06:55.253Z"
   },
   {
    "duration": 37,
    "start_time": "2022-10-06T16:06:55.262Z"
   },
   {
    "duration": 4,
    "start_time": "2022-10-06T16:06:55.301Z"
   },
   {
    "duration": 8,
    "start_time": "2022-10-06T16:06:55.307Z"
   },
   {
    "duration": 9,
    "start_time": "2022-10-06T16:06:55.317Z"
   },
   {
    "duration": 6,
    "start_time": "2022-10-06T16:06:55.328Z"
   },
   {
    "duration": 54,
    "start_time": "2022-10-06T16:06:55.336Z"
   },
   {
    "duration": 3,
    "start_time": "2022-10-06T16:06:55.392Z"
   },
   {
    "duration": 25,
    "start_time": "2022-10-06T16:06:55.397Z"
   },
   {
    "duration": 85,
    "start_time": "2022-10-06T16:06:55.424Z"
   },
   {
    "duration": 297,
    "start_time": "2022-10-06T16:06:55.511Z"
   },
   {
    "duration": 305,
    "start_time": "2022-10-06T16:06:55.810Z"
   },
   {
    "duration": 221,
    "start_time": "2022-10-06T16:06:56.117Z"
   },
   {
    "duration": 7,
    "start_time": "2022-10-06T16:06:56.339Z"
   },
   {
    "duration": 395,
    "start_time": "2022-10-06T16:06:56.348Z"
   },
   {
    "duration": 227,
    "start_time": "2022-10-06T16:06:56.745Z"
   },
   {
    "duration": 339,
    "start_time": "2022-10-06T16:06:56.974Z"
   },
   {
    "duration": 248,
    "start_time": "2022-10-06T16:06:57.315Z"
   },
   {
    "duration": 6,
    "start_time": "2022-10-06T16:06:57.566Z"
   },
   {
    "duration": 163,
    "start_time": "2022-10-06T16:06:57.574Z"
   },
   {
    "duration": 5,
    "start_time": "2022-10-06T16:06:57.738Z"
   },
   {
    "duration": 194,
    "start_time": "2022-10-06T16:06:57.745Z"
   },
   {
    "duration": 15,
    "start_time": "2022-10-06T16:06:57.940Z"
   },
   {
    "duration": 9,
    "start_time": "2022-10-06T16:06:57.957Z"
   },
   {
    "duration": 122,
    "start_time": "2022-10-06T16:06:57.968Z"
   },
   {
    "duration": 124,
    "start_time": "2022-10-06T16:06:58.092Z"
   },
   {
    "duration": 25,
    "start_time": "2022-10-06T16:06:58.218Z"
   },
   {
    "duration": 8,
    "start_time": "2022-10-06T16:06:58.245Z"
   },
   {
    "duration": 63,
    "start_time": "2022-10-06T16:06:58.255Z"
   },
   {
    "duration": 15,
    "start_time": "2022-10-06T16:06:58.319Z"
   }
  ],
  "colab": {
   "collapsed_sections": [
    "k2Y6Rdsjcxwb"
   ],
   "provenance": []
  },
  "kernelspec": {
   "display_name": "Python 3 (ipykernel)",
   "language": "python",
   "name": "python3"
  },
  "language_info": {
   "codemirror_mode": {
    "name": "ipython",
    "version": 3
   },
   "file_extension": ".py",
   "mimetype": "text/x-python",
   "name": "python",
   "nbconvert_exporter": "python",
   "pygments_lexer": "ipython3",
   "version": "3.9.5"
  },
  "toc": {
   "base_numbering": 1,
   "nav_menu": {},
   "number_sections": true,
   "sideBar": true,
   "skip_h1_title": true,
   "title_cell": "Table of Contents",
   "title_sidebar": "Contents",
   "toc_cell": false,
   "toc_position": {
    "height": "calc(100% - 180px)",
    "left": "10px",
    "top": "150px",
    "width": "405.75px"
   },
   "toc_section_display": true,
   "toc_window_display": true
  }
 },
 "nbformat": 4,
 "nbformat_minor": 1
}
